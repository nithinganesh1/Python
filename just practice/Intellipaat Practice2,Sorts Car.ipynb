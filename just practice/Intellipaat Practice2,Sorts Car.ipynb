{
 "cells": [
  {
   "cell_type": "code",
   "execution_count": 1,
   "id": "335d259e",
   "metadata": {},
   "outputs": [],
   "source": [
    "import pandas as pd\n",
    "import numpy as np\n",
    "import matplotlib.pyplot as plt\n",
    "%matplotlib inline\n",
    "import seaborn as sns"
   ]
  },
  {
   "cell_type": "code",
   "execution_count": 2,
   "id": "238ce55f",
   "metadata": {},
   "outputs": [],
   "source": [
    "data=pd.read_csv(r\"E:\\PYTHON\\Intellipaat Dataset\\Sport car price.csv\")"
   ]
  },
  {
   "cell_type": "code",
   "execution_count": 3,
   "id": "e1992884",
   "metadata": {},
   "outputs": [
    {
     "data": {
      "text/html": [
       "<div>\n",
       "<style scoped>\n",
       "    .dataframe tbody tr th:only-of-type {\n",
       "        vertical-align: middle;\n",
       "    }\n",
       "\n",
       "    .dataframe tbody tr th {\n",
       "        vertical-align: top;\n",
       "    }\n",
       "\n",
       "    .dataframe thead th {\n",
       "        text-align: right;\n",
       "    }\n",
       "</style>\n",
       "<table border=\"1\" class=\"dataframe\">\n",
       "  <thead>\n",
       "    <tr style=\"text-align: right;\">\n",
       "      <th></th>\n",
       "      <th>Car Make</th>\n",
       "      <th>Car Model</th>\n",
       "      <th>Year</th>\n",
       "      <th>Engine Size (L)</th>\n",
       "      <th>Horsepower</th>\n",
       "      <th>Torque (lb-ft)</th>\n",
       "      <th>0-60 MPH Time (seconds)</th>\n",
       "      <th>Price (in USD)</th>\n",
       "    </tr>\n",
       "  </thead>\n",
       "  <tbody>\n",
       "    <tr>\n",
       "      <th>0</th>\n",
       "      <td>Porsche</td>\n",
       "      <td>911</td>\n",
       "      <td>2022</td>\n",
       "      <td>3</td>\n",
       "      <td>379</td>\n",
       "      <td>331</td>\n",
       "      <td>4</td>\n",
       "      <td>101,200</td>\n",
       "    </tr>\n",
       "    <tr>\n",
       "      <th>1</th>\n",
       "      <td>Lamborghini</td>\n",
       "      <td>Huracan</td>\n",
       "      <td>2021</td>\n",
       "      <td>5.2</td>\n",
       "      <td>630</td>\n",
       "      <td>443</td>\n",
       "      <td>2.8</td>\n",
       "      <td>274,390</td>\n",
       "    </tr>\n",
       "    <tr>\n",
       "      <th>2</th>\n",
       "      <td>Ferrari</td>\n",
       "      <td>488 GTB</td>\n",
       "      <td>2022</td>\n",
       "      <td>3.9</td>\n",
       "      <td>661</td>\n",
       "      <td>561</td>\n",
       "      <td>3</td>\n",
       "      <td>333,750</td>\n",
       "    </tr>\n",
       "    <tr>\n",
       "      <th>3</th>\n",
       "      <td>Audi</td>\n",
       "      <td>R8</td>\n",
       "      <td>2022</td>\n",
       "      <td>5.2</td>\n",
       "      <td>562</td>\n",
       "      <td>406</td>\n",
       "      <td>3.2</td>\n",
       "      <td>142,700</td>\n",
       "    </tr>\n",
       "    <tr>\n",
       "      <th>4</th>\n",
       "      <td>McLaren</td>\n",
       "      <td>720S</td>\n",
       "      <td>2021</td>\n",
       "      <td>4</td>\n",
       "      <td>710</td>\n",
       "      <td>568</td>\n",
       "      <td>2.7</td>\n",
       "      <td>298,000</td>\n",
       "    </tr>\n",
       "  </tbody>\n",
       "</table>\n",
       "</div>"
      ],
      "text/plain": [
       "      Car Make Car Model  Year Engine Size (L) Horsepower Torque (lb-ft)  \\\n",
       "0      Porsche       911  2022               3        379            331   \n",
       "1  Lamborghini   Huracan  2021             5.2        630            443   \n",
       "2      Ferrari   488 GTB  2022             3.9        661            561   \n",
       "3         Audi        R8  2022             5.2        562            406   \n",
       "4      McLaren      720S  2021               4        710            568   \n",
       "\n",
       "  0-60 MPH Time (seconds) Price (in USD)  \n",
       "0                       4        101,200  \n",
       "1                     2.8        274,390  \n",
       "2                       3        333,750  \n",
       "3                     3.2        142,700  \n",
       "4                     2.7        298,000  "
      ]
     },
     "execution_count": 3,
     "metadata": {},
     "output_type": "execute_result"
    }
   ],
   "source": [
    "data.head()"
   ]
  },
  {
   "cell_type": "code",
   "execution_count": 4,
   "id": "fc8f72f1",
   "metadata": {},
   "outputs": [],
   "source": [
    "# from pandas_profiling import ProfileReport\n",
    "# Report = ProfileReport(data)\n",
    "# Report.to_file(output_file='sportcar.html')"
   ]
  },
  {
   "cell_type": "code",
   "execution_count": 5,
   "id": "6abaf26d",
   "metadata": {},
   "outputs": [
    {
     "name": "stdout",
     "output_type": "stream",
     "text": [
      "<class 'pandas.core.frame.DataFrame'>\n",
      "RangeIndex: 1007 entries, 0 to 1006\n",
      "Data columns (total 8 columns):\n",
      " #   Column                   Non-Null Count  Dtype \n",
      "---  ------                   --------------  ----- \n",
      " 0   Car Make                 1007 non-null   object\n",
      " 1   Car Model                1007 non-null   object\n",
      " 2   Year                     1007 non-null   int64 \n",
      " 3   Engine Size (L)          997 non-null    object\n",
      " 4   Horsepower               1007 non-null   object\n",
      " 5   Torque (lb-ft)           1004 non-null   object\n",
      " 6   0-60 MPH Time (seconds)  1007 non-null   object\n",
      " 7   Price (in USD)           1007 non-null   object\n",
      "dtypes: int64(1), object(7)\n",
      "memory usage: 63.1+ KB\n"
     ]
    }
   ],
   "source": [
    "data.info()"
   ]
  },
  {
   "cell_type": "code",
   "execution_count": 6,
   "id": "4f13abaa",
   "metadata": {},
   "outputs": [
    {
     "data": {
      "text/plain": [
       "Car Make                    0\n",
       "Car Model                   0\n",
       "Year                        0\n",
       "Engine Size (L)            10\n",
       "Horsepower                  0\n",
       "Torque (lb-ft)              3\n",
       "0-60 MPH Time (seconds)     0\n",
       "Price (in USD)              0\n",
       "dtype: int64"
      ]
     },
     "execution_count": 6,
     "metadata": {},
     "output_type": "execute_result"
    }
   ],
   "source": [
    "data.isnull().sum()"
   ]
  },
  {
   "cell_type": "code",
   "execution_count": 7,
   "id": "4e30d6c7",
   "metadata": {},
   "outputs": [],
   "source": [
    "data.dropna(inplace=True)"
   ]
  },
  {
   "cell_type": "markdown",
   "id": "4c53f64c",
   "metadata": {},
   "source": [
    "###### Clean the data and remove the null values from the dataset.( Note - For engine size replace the word starting with electric as 2 and hybrid with 4)"
   ]
  },
  {
   "cell_type": "code",
   "execution_count": 9,
   "id": "84572c01",
   "metadata": {},
   "outputs": [
    {
     "data": {
      "text/plain": [
       "array(['3', '5.2', '3.9', '4', '4.4', '6.2', '3.8', '8', '5', '3.5',\n",
       "       '4.7', '2', '2.9', '6', 'Electric', '6.5', '3.7', 'Electric Motor',\n",
       "       '2.5', '1.5 + Electric', '6.8', '8.4', '6.6', '7', '1.7', '3.3',\n",
       "       '-', '6.7', '1.8', 'Electric (tri-motor)', '5.5',\n",
       "       'Electric (93 kWh)', 'Electric (100 kWh)', 'Hybrid (4.0)', '4.6',\n",
       "       '3.6', '1.5', 'Hybrid', '5.7', '2.0 (Electric)', '4.0 (Hybrid)',\n",
       "       '0', '6.4', '6.3', '2.3'], dtype=object)"
      ]
     },
     "execution_count": 9,
     "metadata": {},
     "output_type": "execute_result"
    }
   ],
   "source": [
    "data[\"Engine Size (L)\"].unique()"
   ]
  },
  {
   "cell_type": "code",
   "execution_count": 10,
   "id": "37eddda0",
   "metadata": {},
   "outputs": [],
   "source": [
    "data[\"Engine Size (L)\"]=data[\"Engine Size (L)\"].replace(\"Electric\",2)\n",
    "data[\"Engine Size (L)\"]=data[\"Engine Size (L)\"].replace(\"Electric Motor\",2)\n",
    "data[\"Engine Size (L)\"]=data[\"Engine Size (L)\"].replace(\"Electric (tri-motor)\",2)\n",
    "data[\"Engine Size (L)\"]=data[\"Engine Size (L)\"].replace(\"1.5 + Electric\",2)\n",
    "data[\"Engine Size (L)\"]=data[\"Engine Size (L)\"].replace(\"-\",2)\n",
    "data[\"Engine Size (L)\"]=data[\"Engine Size (L)\"].replace(\"Electric (93 kWh)\",2)\n",
    "data[\"Engine Size (L)\"]=data[\"Engine Size (L)\"].replace(\"Electric (100 kWh)\",2)\n",
    "data[\"Engine Size (L)\"]=data[\"Engine Size (L)\"].replace(\"Hybrid (4.0)\",4)\n",
    "data[\"Engine Size (L)\"]=data[\"Engine Size (L)\"].replace(\"4.0 (Hybrid)\",4)\n",
    "data[\"Engine Size (L)\"]=data[\"Engine Size (L)\"].replace(\"2.0 (Electric)\",2)\n",
    "data[\"Engine Size (L)\"]=data[\"Engine Size (L)\"].replace(\"Hybrid\",4)"
   ]
  },
  {
   "cell_type": "code",
   "execution_count": 11,
   "id": "23788a4c",
   "metadata": {},
   "outputs": [
    {
     "data": {
      "text/plain": [
       "array(['3', '5.2', '3.9', '4', '4.4', '6.2', '3.8', '8', '5', '3.5',\n",
       "       '4.7', '2', '2.9', '6', 2, '6.5', '3.7', '2.5', '6.8', '8.4',\n",
       "       '6.6', '7', '1.7', '3.3', '6.7', '1.8', '5.5', 4, '4.6', '3.6',\n",
       "       '1.5', '5.7', '0', '6.4', '6.3', '2.3'], dtype=object)"
      ]
     },
     "execution_count": 11,
     "metadata": {},
     "output_type": "execute_result"
    }
   ],
   "source": [
    "data['Engine Size (L)'].unique()"
   ]
  },
  {
   "cell_type": "code",
   "execution_count": 12,
   "id": "9231e85f",
   "metadata": {},
   "outputs": [
    {
     "name": "stdout",
     "output_type": "stream",
     "text": [
      "<class 'pandas.core.frame.DataFrame'>\n",
      "Int64Index: 995 entries, 0 to 1006\n",
      "Data columns (total 8 columns):\n",
      " #   Column                   Non-Null Count  Dtype \n",
      "---  ------                   --------------  ----- \n",
      " 0   Car Make                 995 non-null    object\n",
      " 1   Car Model                995 non-null    object\n",
      " 2   Year                     995 non-null    int64 \n",
      " 3   Engine Size (L)          995 non-null    object\n",
      " 4   Horsepower               995 non-null    object\n",
      " 5   Torque (lb-ft)           995 non-null    object\n",
      " 6   0-60 MPH Time (seconds)  995 non-null    object\n",
      " 7   Price (in USD)           995 non-null    object\n",
      "dtypes: int64(1), object(7)\n",
      "memory usage: 70.0+ KB\n"
     ]
    }
   ],
   "source": [
    "data.info()"
   ]
  },
  {
   "cell_type": "code",
   "execution_count": 13,
   "id": "5d9a02df",
   "metadata": {},
   "outputs": [
    {
     "data": {
      "text/plain": [
       "array(['379', '630', '661', '562', '710', '617', '523', '490', '760',\n",
       "       '600', '1500', '717', '296', '1280', '471', '416', '454', '300',\n",
       "       '505', '320', '626', '671', '622', '720', '1914', '414', '759',\n",
       "       '986', '591', '503', '650', '660', '350', '641', '611', '394',\n",
       "       '612', '369', '603', '455', '460', '325', '349', '592', '444',\n",
       "       '405', '797', '770', '332', '473', '480', '573', '380', '1600',\n",
       "       '181', '620', '764', '624', '1000+', '382', '800', '715', '690',\n",
       "       '730', '469', '365', '401', '645', '435', '500', '780', '750',\n",
       "       '402', '575', '729', '789', '577', '495', '237', '310', '791',\n",
       "       '1874', '542', '368', '616', '1020', '1479', '755', '1,000+',\n",
       "       '288', '482', '1973', '1262', '1035', '819', '385', '647', '1200',\n",
       "       '1578', '625', '583', '429', '563', '400', '707', '887', '305',\n",
       "       '640', '255', '689', '372', '1000', '2000', '10,000', '1,500',\n",
       "       '485', '1,020', '1872', '621', '1972', '1888'], dtype=object)"
      ]
     },
     "execution_count": 13,
     "metadata": {},
     "output_type": "execute_result"
    }
   ],
   "source": [
    "data['Horsepower'].unique()"
   ]
  },
  {
   "cell_type": "code",
   "execution_count": 15,
   "id": "d71b4969",
   "metadata": {},
   "outputs": [],
   "source": [
    "data['Horsepower']=data['Horsepower'].str.replace(\",\",\"\", regex=True)\n",
    "data['Horsepower']=data['Horsepower'].str.replace(\"+\",\"\", regex=True)"
   ]
  },
  {
   "cell_type": "code",
   "execution_count": 17,
   "id": "ce9135f3",
   "metadata": {},
   "outputs": [
    {
     "data": {
      "text/plain": [
       "array(['331', '443', '561', '406', '568', '553', '494', '465', '625',\n",
       "       '481', '516', '1180', '656', '295', '1015', '398', '317', '384',\n",
       "       '280', '243', '664', '531', '468', '737', '738', '1696', '309',\n",
       "       '590', '479', '650', '550', '276', '626', '369', '420', '627',\n",
       "       '455', '505', '560', '457', '707', '270', '354', '476', '339',\n",
       "       '1106', '151', '605', '368', '723', '642', '509', '604', '507',\n",
       "       '513', '600', '440', '708', '774', '254', '663', '332', '530',\n",
       "       '470', '258', '290', '413', '1732', '376', '1050', '-', '10,000+',\n",
       "       '236', '472', '1254', '848', '1300', '442', '641', '498', '350',\n",
       "       '944', '268', '184', '400', '263', '7,376', '1,180', '475',\n",
       "       '1,050', '740', '538'], dtype=object)"
      ]
     },
     "execution_count": 17,
     "metadata": {},
     "output_type": "execute_result"
    }
   ],
   "source": [
    "data[\"Torque (lb-ft)\"].unique()"
   ]
  },
  {
   "cell_type": "code",
   "execution_count": 20,
   "id": "526e7c3b",
   "metadata": {},
   "outputs": [],
   "source": [
    "data[\"Torque (lb-ft)\"]=data[\"Torque (lb-ft)\"].replace(\"-\",np.nan, regex=True)\n",
    "data[\"Torque (lb-ft)\"]=data[\"Torque (lb-ft)\"].str.replace(\",\",\"\", regex=True)\n",
    "data[\"Torque (lb-ft)\"]=data[\"Torque (lb-ft)\"].str.replace(\"+\",\"\", regex=True)"
   ]
  },
  {
   "cell_type": "code",
   "execution_count": 21,
   "id": "a96ba592",
   "metadata": {},
   "outputs": [
    {
     "data": {
      "text/plain": [
       "array(['101,200', '274,390', '333,750', '142,700', '298,000', '130,000',\n",
       "       '118,500', '59,900', '81,000', '212,000', '201,495', '3,000,000',\n",
       "       '61,000', '70,100', '2,800,000', '92,950', '104,450', '150,000',\n",
       "       '62,000', '78,000', '75,000', '225,000', '248,000', '155,000',\n",
       "       '2,400,000', '100,200', '517,770', '625,000', '117,000', '72,800',\n",
       "       '222,000', '64,695', '500,000', '45,690', '104,000', '218,000',\n",
       "       '57,000', '210,000', '148,500', '132,000', '58,900', '518,000',\n",
       "       '56,200', '192,500', '71,800', '68,000', '42,500', '39,000',\n",
       "       '46,100', '142,100', '105,000', '87,200', '52,500', '241,000',\n",
       "       '103,500', '146,000', '75,400', '42,900', '78,595', '62,750',\n",
       "       '417,826', '150,980', '30,090', '88,700', '67,600', '274,280',\n",
       "       '52,915', '218,009', '159,495', '142,086', '219,800', '74,290',\n",
       "       '71,900', '134,300', '26,830', '213,195', '221,580', '100,550',\n",
       "       '330,000', '200,000', '43,090', '1,700,000', '60,500', '522,000',\n",
       "       '67,000', '212,500', '64,000', '31,015', '304,995', '190,000',\n",
       "       '115,000', '59,000', '102,100', '220,300', '114,000', '239,100',\n",
       "       '62,500', '65,290', '219,750', '187,700', '222,004', '71,350',\n",
       "       '68,900', '276,550', '63,700', '44,000', '51,720', '45,790',\n",
       "       '88,550', '222,620', '84,595', '77,500', '157,500', '204,100',\n",
       "       '120,000', '69,900', '105,950', '204,550', '2,700,000', '102,900',\n",
       "       '1,000,000', '123,500', '3,400,000', '61,500', '507,000',\n",
       "       '109,000', '228,000', '42,000', '45,000', '185,000', '56,000',\n",
       "       '191,000', '81,250', '517,700', '242,500', '77,000', '76,000',\n",
       "       '103,200', '177,700', '417,650', '115,045', '256,500', '59,895',\n",
       "       '152,500', '69,995', '363,730', '183,300', '73,795', '183,000',\n",
       "       '60,995', '207,000', '203,825', '99,800', '67,150', '77,250',\n",
       "       '71,490', '150,400', '47,820', '38,170', '102,000', '393,695',\n",
       "       '218,750', '40,590', '52,720', '174,300', '67,895', '62,290',\n",
       "       '93,050', '75,100', '64,195', '211,000', '275,000', '2,998,000',\n",
       "       '573,966', '3,500,000', '2,500,000', '70,000', '61,600', '52,200',\n",
       "       '100,450', '102,550', '76,400', '69,000', '247,500', '79,900',\n",
       "       '119,000', '307,820', '207,825', '202,500', '63,000', '96,950',\n",
       "       '358,000', '30,000', '2,600,000', '180,000', '131,100', '82,190',\n",
       "       '76,950', '132,795', '215,500', '80,900', '40,000', '209,000',\n",
       "       '67,500', '104,200', '133,050', '196,350', '338,000', '218,400',\n",
       "       '73,000', '104,970', '132,400', '71,500', '118,795', '240,000',\n",
       "       '221,400', '64,100', '81,550', '62,250', '92,000', '141,190',\n",
       "       '64,995', '126,190', '205,000', '75,695', '2,750,000', '326,050',\n",
       "       '102,500', '44,500', '51,000', '2,300,000', '3,600,000', '215,000',\n",
       "       '36,120', '220,000', '280,000', '208,800', '229,000', '46,200',\n",
       "       '71,000', '308,000', '80,500', '105,900', '180,800', '94,000',\n",
       "       '70,900', '76,450', '198,950', '77,950', '314,500', '214,425',\n",
       "       '104,400', '335,550', '141,990', '1,550,000', '65,000', '63,100',\n",
       "       '140,000', '325,000', '80,190', '68,745', '139,990', '5,200,000',\n",
       "       '1,500,000', '460,247', '110,045', '77,400', '46,815', '85,000',\n",
       "       '162,900', '245,000', '74,750', '70,595', '203,500', '47,190',\n",
       "       '222,630', '208,000', '96,250', '25,000', '103,800', '48,000',\n",
       "       '93,000', '131,190', '346,300', '3,599,000', '1,050,000',\n",
       "       '186,350', '205,600', '201,000', '340,000', '101,000', '43,000',\n",
       "       '305,000', '204,995', '243,600', '113,000', '161,200', '310,000',\n",
       "       '1,800,000', '517,000', '110,000', '300,000', '100,000', '135,000',\n",
       "       '62,195', '28,000', '147,500', '250,000', '67,800', '211,300',\n",
       "       '222,500', '43,995', '152,995', '235,000', '335,000', '50,000',\n",
       "       '49,000', '98,395', '168,000', '64,500', '46,000', '147,000',\n",
       "       '193,000', '162,000', '76,700', '35,000', '151,000', '83,250',\n",
       "       '74,700', '77,600', '181,100', '329,100', '46,610', '74,000',\n",
       "       '63,995', '2,900,000', '201,500', '332,500', '198,995', '72,000',\n",
       "       '254,995', '60,695', '64,700', '99,990', '150,800', '88,800',\n",
       "       '76,350', '202,000', '96,000', '33,000', '75,250', '99,000',\n",
       "       '149,995', '37,500', '38,500', '71,450', '134,150', '171,200',\n",
       "       '321,000', '100,500', '195,000', '78,100', '78,450', '3,900,000',\n",
       "       '2,000,000', '254,500', '27,205'], dtype=object)"
      ]
     },
     "execution_count": 21,
     "metadata": {},
     "output_type": "execute_result"
    }
   ],
   "source": [
    "data[\"Price (in USD)\"].unique()"
   ]
  },
  {
   "cell_type": "code",
   "execution_count": 23,
   "id": "b029c1d6",
   "metadata": {
    "scrolled": true
   },
   "outputs": [],
   "source": [
    "data[\"Price (in USD)\"]=data[\"Price (in USD)\"].str.replace(\",\",\"\")"
   ]
  },
  {
   "cell_type": "code",
   "execution_count": 24,
   "id": "d5949738",
   "metadata": {},
   "outputs": [
    {
     "data": {
      "text/plain": [
       "array(['4', '2.8', '3', '3.2', '2.7', '3.1', '3.8', '3.5', '2.5', '2.4',\n",
       "       '5.4', '4.4', '4.8', '4.7', '3.6', '4.1', '1.85', '4.5', '3.3',\n",
       "       '3.9', '4.2', '3.4', '5.1', '4.3', '2.9', '5', '5.3', '4.9', '6.5',\n",
       "       '3.7', '1.95', '1.9', '2.6', '2.3', '4.6', '1.98', '< 1.9', '2.1',\n",
       "       '5.2', '1.8', '2.2', '6.4', '2'], dtype=object)"
      ]
     },
     "execution_count": 24,
     "metadata": {},
     "output_type": "execute_result"
    }
   ],
   "source": [
    "data[\"0-60 MPH Time (seconds)\"].unique()"
   ]
  },
  {
   "cell_type": "code",
   "execution_count": 26,
   "id": "426e001a",
   "metadata": {},
   "outputs": [],
   "source": [
    "data[\"0-60 MPH Time (seconds)\"]=data[\"0-60 MPH Time (seconds)\"].str.replace(\"<\",\"\")"
   ]
  },
  {
   "cell_type": "code",
   "execution_count": 27,
   "id": "cad8f176",
   "metadata": {},
   "outputs": [
    {
     "name": "stdout",
     "output_type": "stream",
     "text": [
      "<class 'pandas.core.frame.DataFrame'>\n",
      "Int64Index: 995 entries, 0 to 1006\n",
      "Data columns (total 8 columns):\n",
      " #   Column                   Non-Null Count  Dtype \n",
      "---  ------                   --------------  ----- \n",
      " 0   Car Make                 995 non-null    object\n",
      " 1   Car Model                995 non-null    object\n",
      " 2   Year                     995 non-null    int64 \n",
      " 3   Engine Size (L)          995 non-null    object\n",
      " 4   Horsepower               995 non-null    object\n",
      " 5   Torque (lb-ft)           994 non-null    object\n",
      " 6   0-60 MPH Time (seconds)  995 non-null    object\n",
      " 7   Price (in USD)           995 non-null    object\n",
      "dtypes: int64(1), object(7)\n",
      "memory usage: 70.0+ KB\n"
     ]
    }
   ],
   "source": [
    "data.info()"
   ]
  },
  {
   "cell_type": "code",
   "execution_count": 29,
   "id": "d2f362d8",
   "metadata": {},
   "outputs": [],
   "source": [
    "data.dropna(inplace=True)"
   ]
  },
  {
   "cell_type": "code",
   "execution_count": 30,
   "id": "b0a856f2",
   "metadata": {},
   "outputs": [],
   "source": [
    "data[\"Horsepower\"]=data[\"Horsepower\"].astype(int)\n",
    "data[\"Price (in USD)\"]=data[\"Price (in USD)\"].astype(int)\n",
    "data[\"0-60 MPH Time (seconds)\"]= data[\"0-60 MPH Time (seconds)\"].astype(float)\n",
    "data[\"Engine Size (L)\"]=data[\"Engine Size (L)\"].astype(float)\n",
    "data[\"Torque (lb-ft)\"]=data[\"Torque (lb-ft)\"].astype(int)"
   ]
  },
  {
   "cell_type": "code",
   "execution_count": 32,
   "id": "975cab70",
   "metadata": {},
   "outputs": [
    {
     "name": "stdout",
     "output_type": "stream",
     "text": [
      "<class 'pandas.core.frame.DataFrame'>\n",
      "Int64Index: 994 entries, 0 to 1006\n",
      "Data columns (total 8 columns):\n",
      " #   Column                   Non-Null Count  Dtype  \n",
      "---  ------                   --------------  -----  \n",
      " 0   Car Make                 994 non-null    object \n",
      " 1   Car Model                994 non-null    object \n",
      " 2   Year                     994 non-null    int64  \n",
      " 3   Engine Size (L)          994 non-null    float64\n",
      " 4   Horsepower               994 non-null    int32  \n",
      " 5   Torque (lb-ft)           994 non-null    int32  \n",
      " 6   0-60 MPH Time (seconds)  994 non-null    float64\n",
      " 7   Price (in USD)           994 non-null    int32  \n",
      "dtypes: float64(2), int32(3), int64(1), object(2)\n",
      "memory usage: 58.2+ KB\n"
     ]
    }
   ],
   "source": [
    "data.info()"
   ]
  },
  {
   "cell_type": "markdown",
   "id": "9e9a2757",
   "metadata": {},
   "source": [
    "### 1) What is the price of the most expensive car and which brand makes it ?"
   ]
  },
  {
   "cell_type": "code",
   "execution_count": 33,
   "id": "c8519fd7",
   "metadata": {},
   "outputs": [
    {
     "data": {
      "text/html": [
       "<div>\n",
       "<style scoped>\n",
       "    .dataframe tbody tr th:only-of-type {\n",
       "        vertical-align: middle;\n",
       "    }\n",
       "\n",
       "    .dataframe tbody tr th {\n",
       "        vertical-align: top;\n",
       "    }\n",
       "\n",
       "    .dataframe thead th {\n",
       "        text-align: right;\n",
       "    }\n",
       "</style>\n",
       "<table border=\"1\" class=\"dataframe\">\n",
       "  <thead>\n",
       "    <tr style=\"text-align: right;\">\n",
       "      <th></th>\n",
       "      <th>Car Make</th>\n",
       "      <th>Car Model</th>\n",
       "      <th>Year</th>\n",
       "      <th>Engine Size (L)</th>\n",
       "      <th>Horsepower</th>\n",
       "      <th>Torque (lb-ft)</th>\n",
       "      <th>0-60 MPH Time (seconds)</th>\n",
       "      <th>Price (in USD)</th>\n",
       "    </tr>\n",
       "  </thead>\n",
       "  <tbody>\n",
       "    <tr>\n",
       "      <th>541</th>\n",
       "      <td>Bugatti</td>\n",
       "      <td>Chiron Super Sport 300+</td>\n",
       "      <td>2022</td>\n",
       "      <td>8.0</td>\n",
       "      <td>1578</td>\n",
       "      <td>1180</td>\n",
       "      <td>2.3</td>\n",
       "      <td>5200000</td>\n",
       "    </tr>\n",
       "    <tr>\n",
       "      <th>823</th>\n",
       "      <td>Bugatti</td>\n",
       "      <td>Chiron Super Sport 300+</td>\n",
       "      <td>2021</td>\n",
       "      <td>8.0</td>\n",
       "      <td>1578</td>\n",
       "      <td>1180</td>\n",
       "      <td>2.4</td>\n",
       "      <td>5200000</td>\n",
       "    </tr>\n",
       "  </tbody>\n",
       "</table>\n",
       "</div>"
      ],
      "text/plain": [
       "    Car Make                Car Model  Year  Engine Size (L)  Horsepower  \\\n",
       "541  Bugatti  Chiron Super Sport 300+  2022              8.0        1578   \n",
       "823  Bugatti  Chiron Super Sport 300+  2021              8.0        1578   \n",
       "\n",
       "     Torque (lb-ft)  0-60 MPH Time (seconds)  Price (in USD)  \n",
       "541            1180                      2.3         5200000  \n",
       "823            1180                      2.4         5200000  "
      ]
     },
     "execution_count": 33,
     "metadata": {},
     "output_type": "execute_result"
    }
   ],
   "source": [
    "data[data['Price (in USD)']==data['Price (in USD)'].max()]"
   ]
  },
  {
   "cell_type": "markdown",
   "id": "c98bf063",
   "metadata": {},
   "source": [
    "<b>Bugatti 5200000 <b>"
   ]
  },
  {
   "cell_type": "markdown",
   "id": "edae9af8",
   "metadata": {},
   "source": [
    "### 2) Which brand gives the lowest power output from the engine ?"
   ]
  },
  {
   "cell_type": "code",
   "execution_count": 34,
   "id": "4700353b",
   "metadata": {},
   "outputs": [
    {
     "data": {
      "text/html": [
       "<div>\n",
       "<style scoped>\n",
       "    .dataframe tbody tr th:only-of-type {\n",
       "        vertical-align: middle;\n",
       "    }\n",
       "\n",
       "    .dataframe tbody tr th {\n",
       "        vertical-align: top;\n",
       "    }\n",
       "\n",
       "    .dataframe thead th {\n",
       "        text-align: right;\n",
       "    }\n",
       "</style>\n",
       "<table border=\"1\" class=\"dataframe\">\n",
       "  <thead>\n",
       "    <tr style=\"text-align: right;\">\n",
       "      <th></th>\n",
       "      <th>Car Make</th>\n",
       "      <th>Car Model</th>\n",
       "      <th>Year</th>\n",
       "      <th>Engine Size (L)</th>\n",
       "      <th>Horsepower</th>\n",
       "      <th>Torque (lb-ft)</th>\n",
       "      <th>0-60 MPH Time (seconds)</th>\n",
       "      <th>Price (in USD)</th>\n",
       "    </tr>\n",
       "  </thead>\n",
       "  <tbody>\n",
       "    <tr>\n",
       "      <th>92</th>\n",
       "      <td>Mazda</td>\n",
       "      <td>MX-5 Miata</td>\n",
       "      <td>2021</td>\n",
       "      <td>2.0</td>\n",
       "      <td>181</td>\n",
       "      <td>151</td>\n",
       "      <td>6.5</td>\n",
       "      <td>26830</td>\n",
       "    </tr>\n",
       "  </tbody>\n",
       "</table>\n",
       "</div>"
      ],
      "text/plain": [
       "   Car Make   Car Model  Year  Engine Size (L)  Horsepower  Torque (lb-ft)  \\\n",
       "92    Mazda  MX-5 Miata  2021              2.0         181             151   \n",
       "\n",
       "    0-60 MPH Time (seconds)  Price (in USD)  \n",
       "92                      6.5           26830  "
      ]
     },
     "execution_count": 34,
     "metadata": {},
     "output_type": "execute_result"
    }
   ],
   "source": [
    "data.query('Horsepower==Horsepower.min()')"
   ]
  },
  {
   "cell_type": "markdown",
   "id": "246f8e0f",
   "metadata": {},
   "source": [
    "<b> Mazda, 181 <b>"
   ]
  },
  {
   "cell_type": "markdown",
   "id": "7b04284c",
   "metadata": {},
   "source": [
    "### 3) Is Horsepower dependent on Torque ?"
   ]
  },
  {
   "cell_type": "code",
   "execution_count": 36,
   "id": "3fd6374e",
   "metadata": {},
   "outputs": [
    {
     "data": {
      "text/plain": [
       "0.7233516135222018"
      ]
     },
     "execution_count": 36,
     "metadata": {},
     "output_type": "execute_result"
    }
   ],
   "source": [
    "data['Horsepower'].corr(data['Torque (lb-ft)'])"
   ]
  },
  {
   "cell_type": "code",
   "execution_count": 42,
   "id": "7a1665fa",
   "metadata": {},
   "outputs": [
    {
     "data": {
      "image/png": "[encoded data removed]",
      "text/plain": [
       "<Figure size 640x480 with 1 Axes>"
      ]
     },
     "metadata": {},
     "output_type": "display_data"
    }
   ],
   "source": [
    "plt.scatter(data['Torque (lb-ft)'], data['Horsepower'])\n",
    "plt.xlabel('Torque')\n",
    "plt.ylabel('Horsepower')\n",
    "plt.show()"
   ]
  },
  {
   "cell_type": "markdown",
   "id": "53033396",
   "metadata": {},
   "source": [
    "<b> There is a strong relationship between horsepower and Torque </b>"
   ]
  },
  {
   "cell_type": "markdown",
   "id": "7141c95b",
   "metadata": {},
   "source": [
    "### 4) Is the mean price of sports cars that take time to accelerate from 2 to 4 seconds is same as that for those cars that accelerate for 4 to 6 seconds?"
   ]
  },
  {
   "cell_type": "code",
   "execution_count": 49,
   "id": "97100c94",
   "metadata": {},
   "outputs": [
    {
     "name": "stdout",
     "output_type": "stream",
     "text": [
      " 2to4 = 449372.8269503546\n",
      " 2to6 = 88101.91570881226\n"
     ]
    }
   ],
   "source": [
    "car1 = data[(data['0-60 MPH Time (seconds)'] >= 2) & (data['0-60 MPH Time (seconds)'] < 4)]\n",
    "car2 = data[(data['0-60 MPH Time (seconds)'] >= 4) & (data['0-60 MPH Time (seconds)'] < 6)]\n",
    "print(f\" 2to4 = {np.mean(car1['Price (in USD)'])}\")\n",
    "print(f\" 2to6 = {np.mean(car2['Price (in USD)'])}\")"
   ]
  },
  {
   "cell_type": "markdown",
   "id": "a70c3a0b",
   "metadata": {},
   "source": [
    "<b> The average price of sports cars with acceleration between 2 to 6 seconds is twice as high as the average price of cars with acceleration between 2 to 4 seconds </b><br>\n",
    "we can use ttest here"
   ]
  },
  {
   "cell_type": "code",
   "execution_count": 50,
   "id": "274ced7d",
   "metadata": {},
   "outputs": [
    {
     "name": "stdout",
     "output_type": "stream",
     "text": [
      "11.853495722170495 8.26430400272364e-30\n"
     ]
    }
   ],
   "source": [
    "from scipy.stats import ttest_ind\n",
    "t_stats,p_value=ttest_ind(car1['Price (in USD)'],car2['Price (in USD)'],equal_var=False)\n",
    "print(t_stats,p_value)"
   ]
  },
  {
   "cell_type": "markdown",
   "id": "14c23c8c",
   "metadata": {},
   "source": [
    "##### here p_value is very small(8.26430400272364e-30)we can reject the null hypothesis, there difference in mean prices between the two groups."
   ]
  },
  {
   "cell_type": "markdown",
   "id": "5edde0a7",
   "metadata": {},
   "source": [
    "### 5) Given that the standard deviation of the populations is known. Perform the best suitable test for the previous problem statement."
   ]
  },
  {
   "cell_type": "code",
   "execution_count": 53,
   "id": "7068f4f8",
   "metadata": {},
   "outputs": [
    {
     "data": {
      "text/plain": [
       "2.4538308960378242e-12"
      ]
     },
     "execution_count": 53,
     "metadata": {},
     "output_type": "execute_result"
    }
   ],
   "source": [
    "import random\n",
    "from statsmodels.stats.weightstats import ztest\n",
    "car1=data[(data[\"0-60 MPH Time (seconds)\"]>=2) & (data[\"0-60 MPH Time (seconds)\"]<=4)]\n",
    "car2=data[(data[\"0-60 MPH Time (seconds)\"]>=4) & (data[\"0-60 MPH Time (seconds)\"]<=6)]\n",
    "car1=car1[\"Price (in USD)\"].to_list()\n",
    "car2=car2[\"Price (in USD)\"].to_list()\n",
    "a=random.sample(car1,100)\n",
    "b=random.sample(car2,100)\n",
    "z_test,p_value=ztest(car1,car2)\n",
    "p_value"
   ]
  },
  {
   "cell_type": "markdown",
   "id": "20f47b95",
   "metadata": {},
   "source": [
    "<b> p_value is very small therefore we can reject the null hypothesis difference in the mean prices of sports cars that accelerate from 0 to 60 mph in 2 to 4 seconds and those that accelerate from 0 to 60 mph in 4 to 6 seconds </b>"
   ]
  }
 ],
 "metadata": {
  "kernelspec": {
   "display_name": "Python 3 (ipykernel)",
   "language": "python",
   "name": "python3"
  },
  "language_info": {
   "codemirror_mode": {
    "name": "ipython",
    "version": 3
   },
   "file_extension": ".py",
   "mimetype": "text/x-python",
   "name": "python",
   "nbconvert_exporter": "python",
   "pygments_lexer": "ipython3",
   "version": "3.9.13"
  }
 },
 "nbformat": 4,
 "nbformat_minor": 5
}
