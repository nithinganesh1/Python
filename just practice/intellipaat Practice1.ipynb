{
 "cells": [
  {
   "cell_type": "code",
   "execution_count": 54,
   "id": "154db9a0",
   "metadata": {},
   "outputs": [],
   "source": [
    "import numpy as np\n",
    "import pandas as pd\n",
    "import matplotlib.pyplot as plt\n",
    "%matplotlib inline\n",
    "import seaborn as sns\n",
    "data= pd.read_csv(r\"C:\\Users\\Nithin\\OneDrive\\Desktop\\student_data.csv\")"
   ]
  },
  {
   "cell_type": "code",
   "execution_count": 2,
   "id": "dbc2088e",
   "metadata": {},
   "outputs": [
    {
     "data": {
      "text/html": [
       "<div>\n",
       "<style scoped>\n",
       "    .dataframe tbody tr th:only-of-type {\n",
       "        vertical-align: middle;\n",
       "    }\n",
       "\n",
       "    .dataframe tbody tr th {\n",
       "        vertical-align: top;\n",
       "    }\n",
       "\n",
       "    .dataframe thead th {\n",
       "        text-align: right;\n",
       "    }\n",
       "</style>\n",
       "<table border=\"1\" class=\"dataframe\">\n",
       "  <thead>\n",
       "    <tr style=\"text-align: right;\">\n",
       "      <th></th>\n",
       "      <th>school</th>\n",
       "      <th>sex</th>\n",
       "      <th>age</th>\n",
       "      <th>address</th>\n",
       "      <th>famsize</th>\n",
       "      <th>Pstatus</th>\n",
       "      <th>Medu</th>\n",
       "      <th>Fedu</th>\n",
       "      <th>Mjob</th>\n",
       "      <th>Fjob</th>\n",
       "      <th>...</th>\n",
       "      <th>famrel</th>\n",
       "      <th>freetime</th>\n",
       "      <th>goout</th>\n",
       "      <th>Dalc</th>\n",
       "      <th>Walc</th>\n",
       "      <th>health</th>\n",
       "      <th>absences</th>\n",
       "      <th>G1</th>\n",
       "      <th>G2</th>\n",
       "      <th>G3</th>\n",
       "    </tr>\n",
       "  </thead>\n",
       "  <tbody>\n",
       "    <tr>\n",
       "      <th>0</th>\n",
       "      <td>GP</td>\n",
       "      <td>F</td>\n",
       "      <td>18</td>\n",
       "      <td>U</td>\n",
       "      <td>GT3</td>\n",
       "      <td>A</td>\n",
       "      <td>4</td>\n",
       "      <td>4</td>\n",
       "      <td>at_home</td>\n",
       "      <td>teacher</td>\n",
       "      <td>...</td>\n",
       "      <td>4</td>\n",
       "      <td>3</td>\n",
       "      <td>4</td>\n",
       "      <td>1</td>\n",
       "      <td>1</td>\n",
       "      <td>3</td>\n",
       "      <td>6</td>\n",
       "      <td>5</td>\n",
       "      <td>6</td>\n",
       "      <td>6</td>\n",
       "    </tr>\n",
       "    <tr>\n",
       "      <th>1</th>\n",
       "      <td>GP</td>\n",
       "      <td>F</td>\n",
       "      <td>17</td>\n",
       "      <td>U</td>\n",
       "      <td>GT3</td>\n",
       "      <td>T</td>\n",
       "      <td>1</td>\n",
       "      <td>1</td>\n",
       "      <td>at_home</td>\n",
       "      <td>other</td>\n",
       "      <td>...</td>\n",
       "      <td>5</td>\n",
       "      <td>3</td>\n",
       "      <td>3</td>\n",
       "      <td>1</td>\n",
       "      <td>1</td>\n",
       "      <td>3</td>\n",
       "      <td>4</td>\n",
       "      <td>5</td>\n",
       "      <td>5</td>\n",
       "      <td>6</td>\n",
       "    </tr>\n",
       "    <tr>\n",
       "      <th>2</th>\n",
       "      <td>GP</td>\n",
       "      <td>F</td>\n",
       "      <td>15</td>\n",
       "      <td>U</td>\n",
       "      <td>LE3</td>\n",
       "      <td>T</td>\n",
       "      <td>1</td>\n",
       "      <td>1</td>\n",
       "      <td>at_home</td>\n",
       "      <td>other</td>\n",
       "      <td>...</td>\n",
       "      <td>4</td>\n",
       "      <td>3</td>\n",
       "      <td>2</td>\n",
       "      <td>2</td>\n",
       "      <td>3</td>\n",
       "      <td>3</td>\n",
       "      <td>10</td>\n",
       "      <td>7</td>\n",
       "      <td>8</td>\n",
       "      <td>10</td>\n",
       "    </tr>\n",
       "    <tr>\n",
       "      <th>3</th>\n",
       "      <td>GP</td>\n",
       "      <td>F</td>\n",
       "      <td>15</td>\n",
       "      <td>U</td>\n",
       "      <td>GT3</td>\n",
       "      <td>T</td>\n",
       "      <td>4</td>\n",
       "      <td>2</td>\n",
       "      <td>health</td>\n",
       "      <td>services</td>\n",
       "      <td>...</td>\n",
       "      <td>3</td>\n",
       "      <td>2</td>\n",
       "      <td>2</td>\n",
       "      <td>1</td>\n",
       "      <td>1</td>\n",
       "      <td>5</td>\n",
       "      <td>2</td>\n",
       "      <td>15</td>\n",
       "      <td>14</td>\n",
       "      <td>15</td>\n",
       "    </tr>\n",
       "    <tr>\n",
       "      <th>4</th>\n",
       "      <td>GP</td>\n",
       "      <td>F</td>\n",
       "      <td>16</td>\n",
       "      <td>U</td>\n",
       "      <td>GT3</td>\n",
       "      <td>T</td>\n",
       "      <td>3</td>\n",
       "      <td>3</td>\n",
       "      <td>other</td>\n",
       "      <td>other</td>\n",
       "      <td>...</td>\n",
       "      <td>4</td>\n",
       "      <td>3</td>\n",
       "      <td>2</td>\n",
       "      <td>1</td>\n",
       "      <td>2</td>\n",
       "      <td>5</td>\n",
       "      <td>4</td>\n",
       "      <td>6</td>\n",
       "      <td>10</td>\n",
       "      <td>10</td>\n",
       "    </tr>\n",
       "  </tbody>\n",
       "</table>\n",
       "<p>5 rows × 33 columns</p>\n",
       "</div>"
      ],
      "text/plain": [
       "  school sex  age address famsize Pstatus  Medu  Fedu     Mjob      Fjob  ...  \\\n",
       "0     GP   F   18       U     GT3       A     4     4  at_home   teacher  ...   \n",
       "1     GP   F   17       U     GT3       T     1     1  at_home     other  ...   \n",
       "2     GP   F   15       U     LE3       T     1     1  at_home     other  ...   \n",
       "3     GP   F   15       U     GT3       T     4     2   health  services  ...   \n",
       "4     GP   F   16       U     GT3       T     3     3    other     other  ...   \n",
       "\n",
       "  famrel freetime  goout  Dalc  Walc health absences  G1  G2  G3  \n",
       "0      4        3      4     1     1      3        6   5   6   6  \n",
       "1      5        3      3     1     1      3        4   5   5   6  \n",
       "2      4        3      2     2     3      3       10   7   8  10  \n",
       "3      3        2      2     1     1      5        2  15  14  15  \n",
       "4      4        3      2     1     2      5        4   6  10  10  \n",
       "\n",
       "[5 rows x 33 columns]"
      ]
     },
     "execution_count": 2,
     "metadata": {},
     "output_type": "execute_result"
    }
   ],
   "source": [
    "data.head()"
   ]
  },
  {
   "cell_type": "markdown",
   "id": "0e852b33",
   "metadata": {},
   "source": [
    "#### 1) What is the average age of the student ?"
   ]
  },
  {
   "cell_type": "code",
   "execution_count": 4,
   "id": "57a21797",
   "metadata": {},
   "outputs": [
    {
     "data": {
      "text/plain": [
       "16.696202531645568"
      ]
     },
     "execution_count": 4,
     "metadata": {},
     "output_type": "execute_result"
    }
   ],
   "source": [
    "data.age.mean()"
   ]
  },
  {
   "cell_type": "markdown",
   "id": "b7245400",
   "metadata": {},
   "source": [
    "#### 2) Calculate the maximum first period grade."
   ]
  },
  {
   "cell_type": "code",
   "execution_count": 5,
   "id": "1c2cb759",
   "metadata": {},
   "outputs": [
    {
     "data": {
      "text/plain": [
       "19"
      ]
     },
     "execution_count": 5,
     "metadata": {},
     "output_type": "execute_result"
    }
   ],
   "source": [
    "data.G1.max()"
   ]
  },
  {
   "cell_type": "markdown",
   "id": "b34e7bad",
   "metadata": {},
   "source": [
    "#### 3) What is the median for a mother's education"
   ]
  },
  {
   "cell_type": "code",
   "execution_count": 8,
   "id": "39d60247",
   "metadata": {},
   "outputs": [
    {
     "data": {
      "text/plain": [
       "3.0"
      ]
     },
     "execution_count": 8,
     "metadata": {},
     "output_type": "execute_result"
    }
   ],
   "source": [
    "data.Medu.median()"
   ]
  },
  {
   "cell_type": "markdown",
   "id": "a8bbf9e0",
   "metadata": {},
   "source": [
    "#### 4) Calculate the minimum number of school absences."
   ]
  },
  {
   "cell_type": "code",
   "execution_count": 9,
   "id": "eceb8ab9",
   "metadata": {},
   "outputs": [
    {
     "data": {
      "text/plain": [
       "0"
      ]
     },
     "execution_count": 9,
     "metadata": {},
     "output_type": "execute_result"
    }
   ],
   "source": [
    "data.absences.min()"
   ]
  },
  {
   "cell_type": "markdown",
   "id": "7b175a23",
   "metadata": {},
   "source": [
    "#### 5) Calculate the mode for mother’s job."
   ]
  },
  {
   "cell_type": "code",
   "execution_count": 10,
   "id": "71ce465f",
   "metadata": {},
   "outputs": [
    {
     "data": {
      "text/plain": [
       "0    other\n",
       "Name: Mjob, dtype: object"
      ]
     },
     "execution_count": 10,
     "metadata": {},
     "output_type": "execute_result"
    }
   ],
   "source": [
    "data.Mjob.mode()"
   ]
  },
  {
   "cell_type": "markdown",
   "id": "100e805f",
   "metadata": {},
   "source": [
    "#### 6) Plot the histogram to count the reason to choose schoo"
   ]
  },
  {
   "cell_type": "code",
   "execution_count": 14,
   "id": "065d3e1c",
   "metadata": {},
   "outputs": [
    {
     "data": {
      "image/png": "[encoded data removed]",
      "text/plain": [
       "<Figure size 640x480 with 1 Axes>"
      ]
     },
     "metadata": {},
     "output_type": "display_data"
    }
   ],
   "source": [
    "plt.hist(data.reason)\n",
    "plt.show()"
   ]
  },
  {
   "cell_type": "markdown",
   "id": "54d3d4b6",
   "metadata": {},
   "source": [
    "#### 7) Plot the boxplot for the final grade."
   ]
  },
  {
   "cell_type": "code",
   "execution_count": 53,
   "id": "514f3cd6",
   "metadata": {},
   "outputs": [
    {
     "data": {
      "image/png": "[encoded data removed]",
      "text/plain": [
       "<Figure size 640x480 with 1 Axes>"
      ]
     },
     "metadata": {},
     "output_type": "display_data"
    }
   ],
   "source": [
    "sns.boxplot(x=data.G3)\n",
    "plt.show()"
   ]
  },
  {
   "cell_type": "markdown",
   "id": "602f301b",
   "metadata": {},
   "source": [
    "#### 8) Calculate the Interquartile range for the number of school absences."
   ]
  },
  {
   "cell_type": "code",
   "execution_count": 22,
   "id": "992bf273",
   "metadata": {},
   "outputs": [
    {
     "data": {
      "text/plain": [
       "8.0"
      ]
     },
     "execution_count": 22,
     "metadata": {},
     "output_type": "execute_result"
    }
   ],
   "source": [
    "q3,q1=np.percentile(data.absences,[75,25])\n",
    "iqr=q3-q1\n",
    "iqr"
   ]
  },
  {
   "cell_type": "markdown",
   "id": "304439ec",
   "metadata": {},
   "source": [
    "#### 9) Calculate variance for age, traveltime, studytime and failures"
   ]
  },
  {
   "cell_type": "code",
   "execution_count": 52,
   "id": "9bad0981",
   "metadata": {},
   "outputs": [
    {
     "name": "stdout",
     "output_type": "stream",
     "text": [
      "age          :1.6241627944239607\n",
      "traveltime   :0.4865128831202245\n",
      "studytime    :0.704324359056738\n"
     ]
    }
   ],
   "source": [
    "print(f\"age          :{np.var(data.age)}\")\n",
    "print(f\"traveltime   :{data.traveltime.var()}\")\n",
    "print(f\"studytime    :{data.studytime.var()}\")"
   ]
  },
  {
   "cell_type": "markdown",
   "id": "6d851c67",
   "metadata": {},
   "source": [
    "#### 10) Calculate the count of going out with friends."
   ]
  },
  {
   "cell_type": "code",
   "execution_count": 31,
   "id": "90a7da99",
   "metadata": {},
   "outputs": [
    {
     "data": {
      "text/plain": [
       "395"
      ]
     },
     "execution_count": 31,
     "metadata": {},
     "output_type": "execute_result"
    }
   ],
   "source": [
    "data.goout.count()"
   ]
  },
  {
   "cell_type": "markdown",
   "id": "5ead27a3",
   "metadata": {},
   "source": [
    "#### 11) Compute Standard deviation for family relationships."
   ]
  },
  {
   "cell_type": "code",
   "execution_count": 33,
   "id": "a56dfbff",
   "metadata": {},
   "outputs": [
    {
     "data": {
      "text/plain": [
       "0.8966586076885056"
      ]
     },
     "execution_count": 33,
     "metadata": {},
     "output_type": "execute_result"
    }
   ],
   "source": [
    "data.famrel.std()"
   ]
  },
  {
   "cell_type": "markdown",
   "id": "74fd7b2a",
   "metadata": {},
   "source": [
    "#### 12) Check the skewness and kurtosis of alcohol consumption on weekends"
   ]
  },
  {
   "cell_type": "code",
   "execution_count": 45,
   "id": "27578af7",
   "metadata": {},
   "outputs": [
    {
     "name": "stdout",
     "output_type": "stream",
     "text": [
      "Skew 0.6119599829215362\n",
      " Kurtosis -0.7908450619068916\n"
     ]
    },
    {
     "data": {
      "image/png": "[encoded data removed]",
      "text/plain": [
       "<Figure size 640x480 with 1 Axes>"
      ]
     },
     "metadata": {},
     "output_type": "display_data"
    }
   ],
   "source": [
    "sns.kdeplot(data.Walc)\n",
    "print(f\"Skew {data.Walc.skew()}\")\n",
    "print(f\" Kurtosis {data.Walc.kurtosis()}\")\n",
    "plt.show()"
   ]
  },
  {
   "cell_type": "markdown",
   "id": "a58362c3",
   "metadata": {},
   "source": [
    "#### 13) Plot the density plot for workday alcohol consumption"
   ]
  },
  {
   "cell_type": "code",
   "execution_count": 47,
   "id": "dc76d58c",
   "metadata": {},
   "outputs": [
    {
     "data": {
      "image/png": "[encoded data removed]",
      "text/plain": [
       "<Figure size 640x480 with 1 Axes>"
      ]
     },
     "metadata": {},
     "output_type": "display_data"
    }
   ],
   "source": [
    "data.Dalc.plot(kind='density')\n",
    "plt.show()"
   ]
  }
 ],
 "metadata": {
  "kernelspec": {
   "display_name": "Python 3 (ipykernel)",
   "language": "python",
   "name": "python3"
  },
  "language_info": {
   "codemirror_mode": {
    "name": "ipython",
    "version": 3
   },
   "file_extension": ".py",
   "mimetype": "text/x-python",
   "name": "python",
   "nbconvert_exporter": "python",
   "pygments_lexer": "ipython3",
   "version": "3.9.13"
  }
 },
 "nbformat": 4,
 "nbformat_minor": 5
}
