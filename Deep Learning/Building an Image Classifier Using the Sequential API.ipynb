{
 "cells": [
  {
   "cell_type": "code",
   "execution_count": 1,
   "id": "00bb3dc6",
   "metadata": {},
   "outputs": [
    {
     "name": "stdout",
     "output_type": "stream",
     "text": [
      "WARNING:tensorflow:From C:\\Users\\HP\\anaconda3\\Lib\\site-packages\\keras\\src\\losses.py:2976: The name tf.losses.sparse_softmax_cross_entropy is deprecated. Please use tf.compat.v1.losses.sparse_softmax_cross_entropy instead.\n",
      "\n"
     ]
    }
   ],
   "source": [
    "#Using Keras to Load the Datase\n",
    "import numpy as np\n",
    "import pandas as pd\n",
    "from tensorflow import keras\n",
    "import matplotlib.pyplot as plt\n",
    "\n",
    "fashion_mnist = keras.datasets.fashion_mnist"
   ]
  },
  {
   "cell_type": "code",
   "execution_count": 2,
   "id": "aa5be912",
   "metadata": {},
   "outputs": [],
   "source": [
    "(X_train_f, y_train_f), (X_test, y_test) = fashion_mnist.load_data()"
   ]
  },
  {
   "cell_type": "code",
   "execution_count": 3,
   "id": "a3007a37",
   "metadata": {
    "scrolled": true
   },
   "outputs": [
    {
     "data": {
      "text/plain": [
       "((60000, 28, 28), (60000,), (10000, 28, 28), (10000,))"
      ]
     },
     "execution_count": 3,
     "metadata": {},
     "output_type": "execute_result"
    }
   ],
   "source": [
    "X_train_f.shape,y_train_f.shape,X_test.shape,y_test.shape"
   ]
  },
  {
   "cell_type": "code",
   "execution_count": 4,
   "id": "be9a781e",
   "metadata": {},
   "outputs": [
    {
     "data": {
      "text/plain": [
       "dtype('uint8')"
      ]
     },
     "execution_count": 4,
     "metadata": {},
     "output_type": "execute_result"
    }
   ],
   "source": [
    "X_train_f.dtype"
   ]
  },
  {
   "cell_type": "markdown",
   "id": "9b58c068",
   "metadata": {},
   "source": [
    "Moreover, since we are going to train the neural net‐\n",
    "work using Gradient Descent, we must scale the input features. For simplicity, we just\n",
    "scale the pixel intensities down to the 0-1 range by dividing them by 255.0 (this also\n",
    "converts them to floats):"
   ]
  },
  {
   "cell_type": "code",
   "execution_count": 5,
   "id": "aec4a90f",
   "metadata": {},
   "outputs": [],
   "source": [
    "#Note that the dataset is already split into a training set and a test set, but there is no\n",
    "#validation set, so let’s create one.\n",
    "\n",
    "X_valid, X_train = X_train_f[:5000] / 255.0, X_train_f[5000:] / 255.0\n",
    "y_valid, y_train = y_train_f[:5000], y_train_f[5000:]"
   ]
  },
  {
   "cell_type": "code",
   "execution_count": 6,
   "id": "c40f9596",
   "metadata": {},
   "outputs": [],
   "source": [
    "class_names = [\"T-shirt/top\", \"Trouser\", \"Pullover\", \"Dress\", \"Coat\",\"Sandal\", \"Shirt\", \"Sneaker\", \"Bag\", \"Ankle boot\"]"
   ]
  },
  {
   "cell_type": "code",
   "execution_count": 7,
   "id": "8b89abf1",
   "metadata": {},
   "outputs": [
    {
     "data": {
      "text/plain": [
       "'Ankle boot'"
      ]
     },
     "execution_count": 7,
     "metadata": {},
     "output_type": "execute_result"
    }
   ],
   "source": [
    " class_names[y_train[4]]"
   ]
  },
  {
   "cell_type": "code",
   "execution_count": 8,
   "id": "be6106f9",
   "metadata": {},
   "outputs": [
    {
     "data": {
      "image/png": "[encoded data removed]",
      "text/plain": [
       "<Figure size 640x480 with 9 Axes>"
      ]
     },
     "metadata": {},
     "output_type": "display_data"
    }
   ],
   "source": [
    "for i in range(9):\n",
    "    img = X_train[i]\n",
    "\n",
    "    plt.subplot(3, 3, i + 1) \n",
    "    plt.imshow(img, cmap='gray') \n",
    "    plt.axis('off')\n",
    "plt.show()"
   ]
  },
  {
   "cell_type": "markdown",
   "id": "4f2b6f7f",
   "metadata": {},
   "source": [
    "#### Creating the Model Using the Sequential API"
   ]
  },
  {
   "cell_type": "code",
   "execution_count": 16,
   "id": "8cdd89b2",
   "metadata": {},
   "outputs": [],
   "source": [
    "model = keras.models.Sequential()\n",
    "model.add(keras.layers.Flatten(input_shape=[28,28]))\n",
    "model.add(keras.layers.Dense(300,activation='relu'))\n",
    "model.add(keras.layers.Dense(100,activation='relu'))\n",
    "model.add(keras.layers.Dense(10,activation='softmax'))"
   ]
  },
  {
   "cell_type": "code",
   "execution_count": 17,
   "id": "9a26d0e3",
   "metadata": {},
   "outputs": [
    {
     "name": "stdout",
     "output_type": "stream",
     "text": [
      "Model: \"sequential_1\"\n",
      "_________________________________________________________________\n",
      " Layer (type)                Output Shape              Param #   \n",
      "=================================================================\n",
      " flatten_1 (Flatten)         (None, 784)               0         \n",
      "                                                                 \n",
      " dense_3 (Dense)             (None, 300)               235500    \n",
      "                                                                 \n",
      " dense_4 (Dense)             (None, 100)               30100     \n",
      "                                                                 \n",
      " dense_5 (Dense)             (None, 10)                1010      \n",
      "                                                                 \n",
      "=================================================================\n",
      "Total params: 266610 (1.02 MB)\n",
      "Trainable params: 266610 (1.02 MB)\n",
      "Non-trainable params: 0 (0.00 Byte)\n",
      "_________________________________________________________________\n"
     ]
    }
   ],
   "source": [
    "model.summary()"
   ]
  },
  {
   "cell_type": "code",
   "execution_count": 18,
   "id": "76615fc1",
   "metadata": {},
   "outputs": [
    {
     "data": {
      "text/plain": [
       "[<keras.src.layers.reshaping.flatten.Flatten at 0x27cd85dc350>,\n",
       " <keras.src.layers.core.dense.Dense at 0x27cda3d7450>,\n",
       " <keras.src.layers.core.dense.Dense at 0x27cda3d6e90>,\n",
       " <keras.src.layers.core.dense.Dense at 0x27cdaa67610>]"
      ]
     },
     "execution_count": 18,
     "metadata": {},
     "output_type": "execute_result"
    }
   ],
   "source": [
    "model.layers"
   ]
  },
  {
   "cell_type": "code",
   "execution_count": 19,
   "id": "d86b1663",
   "metadata": {},
   "outputs": [
    {
     "data": {
      "text/plain": [
       "'dense_3'"
      ]
     },
     "execution_count": 19,
     "metadata": {},
     "output_type": "execute_result"
    }
   ],
   "source": [
    "model.layers[1].name"
   ]
  },
  {
   "cell_type": "code",
   "execution_count": 20,
   "id": "20d90f81",
   "metadata": {},
   "outputs": [
    {
     "data": {
      "text/plain": [
       "'dense_3'"
      ]
     },
     "execution_count": 20,
     "metadata": {},
     "output_type": "execute_result"
    }
   ],
   "source": [
    " model.get_layer('dense_3').name"
   ]
  },
  {
   "cell_type": "code",
   "execution_count": 22,
   "id": "51be6807",
   "metadata": {},
   "outputs": [
    {
     "name": "stdout",
     "output_type": "stream",
     "text": [
      "WARNING:tensorflow:From C:\\Users\\HP\\anaconda3\\Lib\\site-packages\\keras\\src\\optimizers\\__init__.py:309: The name tf.train.Optimizer is deprecated. Please use tf.compat.v1.train.Optimizer instead.\n",
      "\n"
     ]
    }
   ],
   "source": [
    "model.compile(loss=\"sparse_categorical_crossentropy\",optimizer=\"sgd\",metrics=[\"accuracy\"])"
   ]
  },
  {
   "cell_type": "code",
   "execution_count": 23,
   "id": "3ecb07d2",
   "metadata": {},
   "outputs": [
    {
     "name": "stdout",
     "output_type": "stream",
     "text": [
      "Epoch 1/30\n",
      "WARNING:tensorflow:From C:\\Users\\HP\\anaconda3\\Lib\\site-packages\\keras\\src\\utils\\tf_utils.py:492: The name tf.ragged.RaggedTensorValue is deprecated. Please use tf.compat.v1.ragged.RaggedTensorValue instead.\n",
      "\n",
      "WARNING:tensorflow:From C:\\Users\\HP\\anaconda3\\Lib\\site-packages\\keras\\src\\engine\\base_layer_utils.py:384: The name tf.executing_eagerly_outside_functions is deprecated. Please use tf.compat.v1.executing_eagerly_outside_functions instead.\n",
      "\n",
      "1719/1719 [==============================] - 10s 5ms/step - loss: 0.7009 - accuracy: 0.7697 - val_loss: 0.5005 - val_accuracy: 0.8338\n",
      "Epoch 2/30\n",
      "1719/1719 [==============================] - 8s 5ms/step - loss: 0.4813 - accuracy: 0.8312 - val_loss: 0.4597 - val_accuracy: 0.8418\n",
      "Epoch 3/30\n",
      "1719/1719 [==============================] - 8s 5ms/step - loss: 0.4373 - accuracy: 0.8464 - val_loss: 0.4185 - val_accuracy: 0.8602\n",
      "Epoch 4/30\n",
      "1719/1719 [==============================] - 7s 4ms/step - loss: 0.4119 - accuracy: 0.8551 - val_loss: 0.3923 - val_accuracy: 0.8634\n",
      "Epoch 5/30\n",
      "1719/1719 [==============================] - 8s 4ms/step - loss: 0.3899 - accuracy: 0.8618 - val_loss: 0.3801 - val_accuracy: 0.8688\n",
      "Epoch 6/30\n",
      "1719/1719 [==============================] - 7s 4ms/step - loss: 0.3752 - accuracy: 0.8679 - val_loss: 0.3706 - val_accuracy: 0.8722\n",
      "Epoch 7/30\n",
      "1719/1719 [==============================] - 8s 5ms/step - loss: 0.3617 - accuracy: 0.8710 - val_loss: 0.3764 - val_accuracy: 0.8684\n",
      "Epoch 8/30\n",
      "1719/1719 [==============================] - 7s 4ms/step - loss: 0.3504 - accuracy: 0.8743 - val_loss: 0.3687 - val_accuracy: 0.8702\n",
      "Epoch 9/30\n",
      "1719/1719 [==============================] - 8s 4ms/step - loss: 0.3405 - accuracy: 0.8784 - val_loss: 0.3545 - val_accuracy: 0.8764\n",
      "Epoch 10/30\n",
      "1719/1719 [==============================] - 7s 4ms/step - loss: 0.3320 - accuracy: 0.8811 - val_loss: 0.3407 - val_accuracy: 0.8796\n",
      "Epoch 11/30\n",
      "1719/1719 [==============================] - 8s 4ms/step - loss: 0.3232 - accuracy: 0.8838 - val_loss: 0.3355 - val_accuracy: 0.8824\n",
      "Epoch 12/30\n",
      "1719/1719 [==============================] - 7s 4ms/step - loss: 0.3150 - accuracy: 0.8881 - val_loss: 0.3518 - val_accuracy: 0.8764\n",
      "Epoch 13/30\n",
      "1719/1719 [==============================] - 8s 5ms/step - loss: 0.3086 - accuracy: 0.8898 - val_loss: 0.3251 - val_accuracy: 0.8864\n",
      "Epoch 14/30\n",
      "1719/1719 [==============================] - 8s 4ms/step - loss: 0.3020 - accuracy: 0.8919 - val_loss: 0.3218 - val_accuracy: 0.8858\n",
      "Epoch 15/30\n",
      "1719/1719 [==============================] - 9s 5ms/step - loss: 0.2946 - accuracy: 0.8931 - val_loss: 0.3296 - val_accuracy: 0.8820\n",
      "Epoch 16/30\n",
      "1719/1719 [==============================] - 7s 4ms/step - loss: 0.2895 - accuracy: 0.8950 - val_loss: 0.3108 - val_accuracy: 0.8898\n",
      "Epoch 17/30\n",
      "1719/1719 [==============================] - 9s 5ms/step - loss: 0.2838 - accuracy: 0.8980 - val_loss: 0.3153 - val_accuracy: 0.8888\n",
      "Epoch 18/30\n",
      "1719/1719 [==============================] - 7s 4ms/step - loss: 0.2783 - accuracy: 0.9001 - val_loss: 0.3063 - val_accuracy: 0.8890\n",
      "Epoch 19/30\n",
      "1719/1719 [==============================] - 8s 5ms/step - loss: 0.2724 - accuracy: 0.9025 - val_loss: 0.3180 - val_accuracy: 0.8872\n",
      "Epoch 20/30\n",
      "1719/1719 [==============================] - 7s 4ms/step - loss: 0.2681 - accuracy: 0.9034 - val_loss: 0.3107 - val_accuracy: 0.8894\n",
      "Epoch 21/30\n",
      "1719/1719 [==============================] - 8s 4ms/step - loss: 0.2645 - accuracy: 0.9047 - val_loss: 0.3041 - val_accuracy: 0.8926\n",
      "Epoch 22/30\n",
      "1719/1719 [==============================] - 9s 5ms/step - loss: 0.2583 - accuracy: 0.9061 - val_loss: 0.3126 - val_accuracy: 0.8860\n",
      "Epoch 23/30\n",
      "1719/1719 [==============================] - 8s 5ms/step - loss: 0.2537 - accuracy: 0.9088 - val_loss: 0.2991 - val_accuracy: 0.8926\n",
      "Epoch 24/30\n",
      "1719/1719 [==============================] - 7s 4ms/step - loss: 0.2512 - accuracy: 0.9098 - val_loss: 0.3131 - val_accuracy: 0.8916\n",
      "Epoch 25/30\n",
      "1719/1719 [==============================] - 7s 4ms/step - loss: 0.2465 - accuracy: 0.9103 - val_loss: 0.3001 - val_accuracy: 0.8914\n",
      "Epoch 26/30\n",
      "1719/1719 [==============================] - 7s 4ms/step - loss: 0.2416 - accuracy: 0.9131 - val_loss: 0.3144 - val_accuracy: 0.8902\n",
      "Epoch 27/30\n",
      "1719/1719 [==============================] - 7s 4ms/step - loss: 0.2378 - accuracy: 0.9145 - val_loss: 0.2991 - val_accuracy: 0.8920\n",
      "Epoch 28/30\n",
      "1719/1719 [==============================] - 8s 4ms/step - loss: 0.2332 - accuracy: 0.9158 - val_loss: 0.2976 - val_accuracy: 0.8912\n",
      "Epoch 29/30\n",
      "1719/1719 [==============================] - 7s 4ms/step - loss: 0.2304 - accuracy: 0.9173 - val_loss: 0.3072 - val_accuracy: 0.8920\n",
      "Epoch 30/30\n",
      "1719/1719 [==============================] - 8s 4ms/step - loss: 0.2261 - accuracy: 0.9196 - val_loss: 0.2971 - val_accuracy: 0.8924\n"
     ]
    }
   ],
   "source": [
    "history = model.fit(X_train, y_train, epochs=30,validation_data=(X_valid, y_valid))"
   ]
  },
  {
   "cell_type": "code",
   "execution_count": 25,
   "id": "fa1cff87",
   "metadata": {},
   "outputs": [
    {
     "data": {
      "image/png": "[encoded data removed]",
      "text/plain": [
       "<Figure size 800x500 with 1 Axes>"
      ]
     },
     "metadata": {},
     "output_type": "display_data"
    }
   ],
   "source": [
    "pd.DataFrame(history.history).plot(figsize=(8, 5))\n",
    "plt.grid(True)\n",
    "plt.gca().set_ylim(0, 1)\n",
    "plt.show()"
   ]
  },
  {
   "cell_type": "code",
   "execution_count": 33,
   "id": "48ee490f",
   "metadata": {
    "scrolled": true
   },
   "outputs": [
    {
     "data": {
      "text/plain": [
       "[array([[ 0.07123271,  0.03760073,  0.04839452, ...,  0.0130936 ,\n",
       "          0.0263455 , -0.05359836],\n",
       "        [-0.06409887, -0.03763659, -0.06550489, ...,  0.00929381,\n",
       "          0.00095735, -0.00499809],\n",
       "        [-0.03487957, -0.0136427 ,  0.00265297, ...,  0.03899488,\n",
       "          0.00852387, -0.04653146],\n",
       "        ...,\n",
       "        [-0.04385828,  0.01050825,  0.0500801 , ...,  0.07115229,\n",
       "         -0.00185678,  0.03917008],\n",
       "        [-0.05248984,  0.03001033,  0.0540441 , ..., -0.0528939 ,\n",
       "         -0.07496588,  0.03454709],\n",
       "        [-0.02964919, -0.06313659,  0.0106448 , ..., -0.05387769,\n",
       "          0.00952951, -0.06163438]], dtype=float32),\n",
       " array([-4.35950962e-04,  1.21540815e-01,  1.86696813e-01,  1.06140405e-01,\n",
       "         1.31412849e-01,  1.28663510e-01,  9.75282118e-02,  2.75700949e-02,\n",
       "         1.35111269e-02,  1.39082626e-01, -1.07229695e-01,  1.13796242e-01,\n",
       "         9.65678245e-02,  1.95816085e-02, -2.56051924e-02,  2.24038903e-02,\n",
       "         1.45282507e-01,  1.18993841e-01, -3.04631628e-02, -4.50316295e-02,\n",
       "         5.29715903e-02,  6.37388006e-02,  8.65910649e-02,  3.00038885e-02,\n",
       "         6.64340630e-02, -4.15684143e-03,  1.28180712e-01, -3.44946943e-02,\n",
       "        -2.94131525e-02, -4.47576083e-02,  6.00176025e-03,  5.45854820e-03,\n",
       "         6.52155876e-02,  4.06824425e-02,  1.37992591e-01,  4.07536216e-02,\n",
       "         9.61467475e-02, -8.35192949e-02,  7.81969205e-02,  5.42970374e-02,\n",
       "         7.69716501e-02,  6.03064848e-03,  1.15270942e-01,  1.38797522e-01,\n",
       "         1.04155494e-02,  1.40553359e-02, -1.14496443e-02,  1.28318653e-01,\n",
       "         1.54543787e-01, -3.30876485e-02,  9.50193107e-02,  5.56074306e-02,\n",
       "         1.24758959e-01, -7.60288835e-02,  2.96339430e-02, -8.19614343e-03,\n",
       "         8.48906115e-02, -1.41605746e-03, -4.76382338e-02,  1.10808760e-01,\n",
       "         7.42999241e-02, -7.80460378e-03,  9.70907286e-02, -9.92921181e-03,\n",
       "        -2.59727444e-02,  6.19752258e-02, -1.76019256e-03,  1.15221704e-03,\n",
       "        -1.49607798e-02,  4.26746085e-02,  5.62038310e-02,  6.35308251e-02,\n",
       "         1.57594919e-01, -6.50604591e-02,  7.22334906e-02, -2.35111900e-02,\n",
       "         6.25214949e-02,  2.47368077e-03, -5.83372936e-02, -1.28533058e-02,\n",
       "         1.54607017e-02,  7.54758269e-02,  1.10572949e-01,  8.55556801e-02,\n",
       "         4.42657014e-03, -2.20757369e-02,  7.80121833e-02, -1.00202769e-01,\n",
       "        -2.79241782e-02,  6.67585507e-02, -6.42833263e-02,  1.05319060e-01,\n",
       "        -7.61474818e-02,  9.10056829e-02,  4.79770564e-02,  5.67084625e-02,\n",
       "         3.96024734e-02, -3.23231071e-02,  8.54985565e-02,  3.75311263e-02,\n",
       "         6.90642372e-02,  7.59378076e-02,  6.02238253e-03,  9.59326699e-03,\n",
       "         7.08884373e-02,  9.77858156e-02,  1.50918990e-01,  1.20730966e-01,\n",
       "        -6.43455908e-02, -1.14984466e-02, -3.56921777e-02,  8.40456113e-02,\n",
       "         4.84629720e-02,  3.35877240e-02,  1.27426445e-01,  5.54757938e-03,\n",
       "        -4.71066858e-04,  4.05539349e-02,  1.09946176e-01, -2.35379557e-03,\n",
       "         5.36185242e-02, -5.95348179e-02,  1.00907460e-02,  7.15477243e-02,\n",
       "        -1.35012660e-02,  1.18843243e-01,  5.07981591e-02,  1.01586662e-01,\n",
       "         2.62666102e-02, -2.88306344e-02, -3.82389985e-02,  4.66129463e-03,\n",
       "         2.89468151e-02, -2.82035246e-02, -3.68598737e-02,  1.97867639e-02,\n",
       "        -4.00853343e-02,  5.59876338e-02,  5.97169027e-02, -5.77732129e-03,\n",
       "         3.66352536e-02,  1.78765040e-02,  2.27130931e-02, -9.25603509e-03,\n",
       "         2.21803620e-01,  3.19036841e-02,  6.50902390e-02, -6.04805313e-02,\n",
       "         6.99958801e-02,  1.43010868e-02,  3.26595642e-02,  3.68871093e-02,\n",
       "        -1.47480853e-02,  5.14514968e-02, -1.14201672e-01, -4.30771634e-02,\n",
       "        -2.69738361e-02, -2.95234541e-03,  7.72090489e-03,  7.14881793e-02,\n",
       "        -3.24914120e-02, -3.23094763e-02,  5.83081208e-02,  1.36647122e-02,\n",
       "        -2.47412222e-03, -2.15993468e-02, -9.54860356e-03, -3.28508206e-02,\n",
       "         9.98374447e-03,  8.45071748e-02,  2.10311934e-02,  6.15599528e-02,\n",
       "         1.29679188e-01,  9.74677950e-02, -1.39949087e-03,  1.38218790e-01,\n",
       "         5.45967631e-02,  1.58051208e-01, -1.28218755e-01, -1.33475112e-02,\n",
       "         5.95127493e-02, -1.09833606e-01,  1.40735701e-01, -6.49155304e-03,\n",
       "         6.04308844e-02,  7.39020109e-02,  5.27204899e-03, -6.87128901e-02,\n",
       "         1.59942396e-02,  6.47826632e-03,  3.70962098e-02, -4.07507606e-02,\n",
       "         1.28930002e-01,  9.83764976e-02, -5.95200136e-02,  6.98542446e-02,\n",
       "         1.23339705e-01,  7.09139630e-02,  2.83558760e-02,  6.24781847e-02,\n",
       "         7.75816813e-02,  1.63963124e-01,  5.68674840e-02, -4.61814413e-03,\n",
       "        -5.96588803e-03, -6.89448975e-03, -2.79249297e-03,  3.29204053e-02,\n",
       "        -1.37869403e-01,  9.85221788e-02,  2.02793866e-01,  2.43332162e-02,\n",
       "        -1.29062133e-02,  1.48539305e-01,  1.02883205e-01,  2.91972812e-02,\n",
       "         2.61890814e-02,  1.27574317e-02, -3.58922370e-02,  1.42059356e-01,\n",
       "        -3.63194384e-02,  1.62227079e-02,  9.35490355e-02, -9.15852375e-03,\n",
       "         3.61016244e-02,  3.57703976e-02,  1.67079197e-04,  6.86454773e-02,\n",
       "         3.53024602e-02,  1.02037653e-01, -1.72884110e-02,  4.75282371e-02,\n",
       "         6.10211454e-02,  1.22867092e-01,  7.88780488e-03,  4.41765860e-02,\n",
       "        -2.21294090e-02,  3.64239663e-02, -4.53282595e-02,  2.37431712e-02,\n",
       "         9.84756462e-03, -1.57471783e-02, -2.97647472e-02,  1.05046496e-01,\n",
       "         2.92624049e-02,  1.23186529e-01, -4.88855429e-02,  7.67586604e-02,\n",
       "         1.43422991e-01,  6.24225959e-02,  6.60661012e-02,  8.42808560e-03,\n",
       "         4.83060479e-02,  1.03836320e-01, -1.06637543e-02,  2.02127211e-02,\n",
       "         9.35769603e-02,  1.20066181e-02,  8.91038775e-02,  7.68275782e-02,\n",
       "         1.41608477e-01, -6.72642589e-02,  4.76262718e-02, -2.62061926e-03,\n",
       "        -3.28541873e-03,  3.61047536e-02,  1.13044880e-01,  9.60489139e-02,\n",
       "         5.25998026e-02,  2.57687103e-02,  4.61028889e-02, -1.78162269e-02,\n",
       "         8.31926416e-04,  5.10778055e-02,  2.34091748e-02,  1.36317722e-02,\n",
       "        -1.21641029e-02,  4.00994644e-02,  3.28537151e-02, -2.63986979e-02,\n",
       "        -8.97921529e-03,  7.51641020e-02,  2.17100069e-01,  3.64315659e-02,\n",
       "         2.95119900e-02,  2.04030480e-02, -6.12249179e-03, -2.56785285e-03,\n",
       "         3.80058065e-02,  4.29915488e-02,  7.47775584e-02, -1.10935932e-02,\n",
       "         2.27712244e-02, -1.74214300e-02,  4.13973778e-02, -9.57387239e-02,\n",
       "         1.22552402e-01,  5.65453283e-02,  1.53925180e-01, -8.97499267e-03],\n",
       "       dtype=float32),\n",
       " array([[-0.00228159,  0.09382571,  0.06037934, ...,  0.01954053,\n",
       "         -0.06697647,  0.05801903],\n",
       "        [ 0.1121612 , -0.00315129,  0.02896317, ...,  0.10989621,\n",
       "          0.1253881 ,  0.07841487],\n",
       "        [ 0.06135237,  0.09072975,  0.02614926, ..., -0.04910628,\n",
       "         -0.12676041,  0.02839493],\n",
       "        ...,\n",
       "        [-0.13725455,  0.09865838, -0.03553486, ...,  0.0296797 ,\n",
       "         -0.07291651, -0.07119639],\n",
       "        [ 0.01116258,  0.20141783, -0.07275444, ..., -0.03376226,\n",
       "         -0.09975793,  0.05881179],\n",
       "        [-0.00840297, -0.10859077, -0.08705401, ...,  0.09141818,\n",
       "          0.02076771, -0.09311642]], dtype=float32),\n",
       " array([-8.73546815e-04,  5.28034568e-02, -1.05237970e-02,  1.40832469e-01,\n",
       "        -7.97732454e-03,  1.13329645e-02,  7.52147287e-02, -2.76262145e-02,\n",
       "         2.73319632e-02, -7.02862671e-05, -4.65191863e-02,  6.84499517e-02,\n",
       "         3.12625766e-02,  1.60425454e-01,  8.17970261e-02,  3.89493890e-02,\n",
       "         1.51575029e-01,  1.27010286e-01, -4.51103821e-02,  1.23911351e-01,\n",
       "         3.18641737e-02, -9.38488357e-03,  6.73733428e-02,  3.29730101e-02,\n",
       "        -2.01761201e-02, -1.24740065e-04, -3.50535382e-03, -1.74612496e-02,\n",
       "        -9.31791868e-03,  1.22553386e-01,  2.06688361e-04,  4.50208560e-02,\n",
       "         1.12578891e-01,  1.27265111e-01,  3.47697437e-02,  9.95165408e-02,\n",
       "        -3.29177291e-03, -5.53150475e-03, -1.10315438e-02,  4.40401472e-02,\n",
       "         3.80419719e-04, -1.15953367e-02,  1.03614695e-01,  1.21064104e-01,\n",
       "         1.75776005e-01,  9.30157676e-02,  2.11148616e-02,  1.88685656e-02,\n",
       "         5.32469302e-02,  2.70325057e-02,  7.11431610e-04, -2.10013818e-02,\n",
       "         4.06994931e-02,  5.84103018e-02,  8.76034237e-03,  3.19541208e-02,\n",
       "         8.17493349e-02,  1.72932316e-02,  9.44161788e-02,  4.54679020e-02,\n",
       "        -6.90187141e-03,  1.17375165e-01,  4.20391671e-02,  5.27096428e-02,\n",
       "         3.27584073e-02,  3.06736194e-02,  1.51998475e-01, -1.25966477e-03,\n",
       "         8.66308585e-02,  1.30930036e-01,  1.00985318e-01,  2.09934469e-02,\n",
       "         9.91992503e-02, -1.22147009e-01, -1.61184147e-02,  6.13458343e-02,\n",
       "        -2.41101030e-02,  6.23673759e-03,  3.06893550e-02, -6.44669589e-03,\n",
       "         8.93187523e-02,  4.97718900e-02,  5.50251082e-02, -5.39994333e-03,\n",
       "         8.34008530e-02, -4.83230688e-03,  2.04897416e-03,  6.06923029e-02,\n",
       "         8.82529989e-02,  2.34729480e-02,  4.43467051e-02, -3.61480424e-03,\n",
       "         8.72932449e-02,  1.28931537e-01, -1.60041824e-03,  4.88980114e-02,\n",
       "         2.28623319e-02,  1.19884782e-01,  4.27874066e-02,  1.63239241e-02],\n",
       "       dtype=float32),\n",
       " array([[-4.31722961e-02, -9.98043418e-02,  6.81489334e-02,\n",
       "         -2.83087730e-01, -2.13082612e-01, -1.73042700e-01,\n",
       "         -3.67762029e-01,  2.32362926e-01,  3.64571482e-01,\n",
       "          3.81020367e-01],\n",
       "        [ 2.58439869e-01, -2.56294340e-01, -2.18072191e-01,\n",
       "         -1.67162433e-01, -3.76786649e-01, -3.30014229e-01,\n",
       "          2.47454420e-01, -1.82936519e-01,  3.19419503e-01,\n",
       "          8.22526589e-02],\n",
       "        [ 2.39531204e-01,  4.99975421e-02,  4.81279135e-01,\n",
       "         -4.54176635e-01, -1.30333602e-01, -8.28945935e-02,\n",
       "         -2.40529686e-01,  2.85642296e-01, -3.97932589e-01,\n",
       "          4.65133369e-01],\n",
       "        [-2.50973105e-01, -2.29397103e-01,  1.16627201e-01,\n",
       "          2.62737900e-01, -1.58345997e-01,  3.29859793e-01,\n",
       "         -3.26480478e-01,  4.04292911e-01, -3.66233796e-01,\n",
       "         -3.39850871e-04],\n",
       "        [-1.76299021e-01, -6.45421818e-02,  1.84074026e-02,\n",
       "         -3.56657028e-01,  5.58346748e-01,  1.98204890e-02,\n",
       "          2.88688064e-01, -4.03332077e-02,  1.63038298e-01,\n",
       "          4.39068936e-02],\n",
       "        [ 2.48558968e-01,  1.97325364e-01,  4.15026724e-01,\n",
       "         -3.05973053e-01, -1.94108844e-01,  1.70280948e-01,\n",
       "          2.42319763e-01, -2.84155399e-01,  2.51200378e-01,\n",
       "         -3.53178144e-01],\n",
       "        [-4.92451310e-01,  4.11941022e-01,  1.52415141e-01,\n",
       "          1.76423296e-01, -2.13145137e-01,  4.98963118e-01,\n",
       "         -4.00453627e-01, -2.17089251e-01, -1.16021663e-01,\n",
       "         -3.29928011e-01],\n",
       "        [-1.14163101e-01, -6.00356348e-02, -1.14813417e-01,\n",
       "         -3.85022257e-03, -2.85382628e-01,  2.26341709e-01,\n",
       "         -3.83914322e-01, -3.80814523e-01,  3.43226790e-01,\n",
       "          7.06395656e-02],\n",
       "        [-2.46049017e-01,  6.32855669e-02, -2.06985369e-01,\n",
       "         -3.03030372e-01, -3.75352204e-01, -4.77950603e-01,\n",
       "          7.02230811e-01,  5.20080447e-01, -4.62411612e-01,\n",
       "         -1.48511352e-03],\n",
       "        [ 1.35834366e-02,  2.48714983e-02,  1.30772024e-01,\n",
       "         -2.23040372e-01,  1.49576455e-01,  3.22934724e-02,\n",
       "          1.57369927e-01,  1.18662365e-01,  9.12891403e-02,\n",
       "          1.76729947e-01],\n",
       "        [ 3.33019942e-01, -1.20344922e-01, -2.88340360e-01,\n",
       "         -3.68697196e-01,  1.60345610e-03, -3.53918597e-02,\n",
       "         -2.11223617e-01, -1.62460849e-01,  4.01637346e-01,\n",
       "          5.19115388e-01],\n",
       "        [ 1.87826045e-02, -1.90096930e-01, -1.36427820e-01,\n",
       "          2.20893458e-01, -2.76506264e-02, -3.50812465e-01,\n",
       "         -3.12696360e-02,  3.94509643e-01, -1.88074604e-01,\n",
       "          9.35319513e-02],\n",
       "        [ 7.41917565e-02,  1.10222630e-01, -3.23378563e-01,\n",
       "          3.58217508e-02,  3.91599797e-02, -2.57314116e-01,\n",
       "          1.54269680e-01,  1.02764986e-01,  1.06604487e-01,\n",
       "          3.42501491e-01],\n",
       "        [ 4.26180094e-01,  3.27956289e-01, -3.74698222e-01,\n",
       "          1.48444086e-01, -4.96523768e-01, -1.14099078e-01,\n",
       "          4.42308217e-01,  3.28868814e-02, -2.91691542e-01,\n",
       "         -1.90648675e-01],\n",
       "        [ 9.68879983e-02,  5.00860550e-02,  1.65917352e-01,\n",
       "         -2.41767645e-01, -2.25518420e-01,  8.77494272e-03,\n",
       "          3.40213358e-01,  1.38541043e-01, -1.84816085e-02,\n",
       "         -1.24579202e-02],\n",
       "        [ 6.66735619e-02,  7.20380321e-02,  1.65141851e-01,\n",
       "          3.58559161e-01, -2.24481240e-01,  4.40605432e-02,\n",
       "         -2.88354188e-01, -3.46589983e-01,  3.08527350e-01,\n",
       "         -1.85397863e-01],\n",
       "        [-4.58751023e-02, -1.35934711e-01, -3.33201200e-01,\n",
       "          3.49543363e-01, -3.68833393e-01,  6.80019334e-02,\n",
       "          1.87494040e-01,  3.94647568e-01, -2.57505298e-01,\n",
       "         -9.49907303e-03],\n",
       "        [-8.63706619e-02, -5.97105801e-01,  2.85558492e-01,\n",
       "          1.10236570e-01,  2.13311255e-01,  8.07336196e-02,\n",
       "          1.17150322e-02,  2.81517804e-01,  4.10965323e-01,\n",
       "         -4.27884281e-01],\n",
       "        [-9.20557231e-02,  2.70760834e-01,  1.40393466e-01,\n",
       "          1.37359396e-01,  1.74255613e-02, -2.43802890e-01,\n",
       "         -4.25279796e-01, -2.33340174e-01, -2.91448206e-01,\n",
       "          4.29461822e-02],\n",
       "        [-1.69349104e-01,  3.01365942e-01,  7.75663629e-02,\n",
       "          1.25722930e-01, -1.27281308e-01, -8.73489454e-02,\n",
       "         -4.20850307e-01,  3.02204490e-01,  2.39967182e-01,\n",
       "         -4.42711204e-01],\n",
       "        [-3.36440466e-02,  1.21788777e-01, -6.63798749e-02,\n",
       "         -3.48763876e-02, -2.01436862e-01, -6.83669925e-01,\n",
       "         -2.59857982e-01,  1.87709197e-01,  3.59093368e-01,\n",
       "          2.80693442e-01],\n",
       "        [-2.24491566e-01,  2.51708388e-01, -2.43245978e-02,\n",
       "          1.48113266e-01,  4.87799905e-02,  1.31256998e-01,\n",
       "          1.12875901e-01, -9.58837867e-02,  1.97767735e-01,\n",
       "          6.78934157e-02],\n",
       "        [ 1.27315700e-01, -3.58890951e-01,  3.14580381e-01,\n",
       "         -3.34229261e-01,  4.19446677e-01, -2.93571651e-02,\n",
       "          5.90250269e-03,  2.93445110e-01,  1.48234785e-01,\n",
       "         -3.25072855e-01],\n",
       "        [-4.17579651e-01,  2.07408816e-01, -2.96610206e-01,\n",
       "          3.32146436e-01,  1.22077137e-01, -2.61448532e-01,\n",
       "          2.27726959e-02, -1.36008933e-01,  2.28452623e-01,\n",
       "          7.02965409e-02],\n",
       "        [-1.46850469e-02, -3.42110209e-02,  1.02344595e-01,\n",
       "          2.10821941e-01, -7.67809898e-02, -8.70968103e-02,\n",
       "         -6.64988607e-02,  6.26417473e-02,  1.64265171e-01,\n",
       "          1.87319815e-01],\n",
       "        [ 7.19869360e-02,  1.97147369e-01, -8.11436698e-02,\n",
       "         -7.93560669e-02,  1.45273373e-01, -1.34145513e-01,\n",
       "          1.37396842e-01, -1.72722176e-01, -7.56420195e-02,\n",
       "         -5.73898815e-02],\n",
       "        [-1.50869891e-01, -1.35315210e-01, -1.12527311e-01,\n",
       "          1.06854029e-02,  1.69761673e-01,  9.63615403e-02,\n",
       "         -4.78070602e-02, -3.63383256e-02, -1.43032715e-01,\n",
       "          4.50343220e-03],\n",
       "        [-3.18148844e-02,  3.05101365e-01,  8.56506974e-02,\n",
       "         -1.17722563e-01,  2.43662119e-01,  1.46087244e-01,\n",
       "          1.45745769e-01,  2.46431176e-02,  4.80807573e-02,\n",
       "         -6.52639866e-02],\n",
       "        [-1.52396351e-01, -1.10332869e-01, -1.00380294e-01,\n",
       "          1.08007319e-01,  1.39694652e-02,  9.79337394e-02,\n",
       "          4.55258265e-02,  1.88182369e-01, -3.17616425e-02,\n",
       "         -1.92366287e-01],\n",
       "        [-2.59589970e-01, -2.23592520e-01, -1.54137671e-01,\n",
       "         -2.05509305e-01, -4.55026746e-01,  3.15115333e-01,\n",
       "          2.74838120e-01,  1.90717518e-01, -3.90427619e-01,\n",
       "         -5.43418154e-02],\n",
       "        [ 1.84050158e-01, -9.09467228e-03,  3.58138122e-02,\n",
       "          5.69445565e-02,  1.67004377e-01,  1.68587074e-01,\n",
       "          1.24995679e-01, -8.97362232e-02, -6.12675995e-02,\n",
       "         -1.72160015e-01],\n",
       "        [-3.64023924e-01, -1.14974096e-01,  1.01089917e-01,\n",
       "          4.21246827e-01,  3.87290828e-02, -3.37247699e-01,\n",
       "          1.92648053e-01,  1.74213335e-01, -5.43472618e-02,\n",
       "          4.79874462e-01],\n",
       "        [ 4.12809342e-01, -9.16625783e-02, -7.22069666e-02,\n",
       "         -2.44246319e-01, -6.22485459e-01,  5.22710383e-01,\n",
       "         -4.13135216e-02, -6.54500863e-03, -3.14090878e-01,\n",
       "          1.17949806e-01],\n",
       "        [ 1.92016736e-01, -1.71362720e-02, -3.97420466e-01,\n",
       "          4.20443155e-02,  2.28803568e-02, -8.21265429e-02,\n",
       "          3.70031953e-01, -2.25875154e-01, -3.49851906e-01,\n",
       "         -1.32836550e-01],\n",
       "        [-2.29345217e-01, -4.38442290e-01,  1.90823585e-01,\n",
       "         -3.67037766e-02, -2.46681526e-01, -2.99643189e-01,\n",
       "          4.03805345e-01, -3.05147827e-01,  4.79411781e-01,\n",
       "          3.87475103e-01],\n",
       "        [ 4.66469936e-02,  1.12155806e-02,  1.51031464e-01,\n",
       "         -5.42001538e-02,  1.25783193e-03,  6.79830849e-01,\n",
       "         -2.83227026e-01,  2.91805714e-01, -3.87165457e-01,\n",
       "          1.55374542e-01],\n",
       "        [ 8.09015613e-03, -2.00297795e-02, -4.31982130e-01,\n",
       "         -5.72954603e-02,  1.27031431e-01, -2.37878755e-01,\n",
       "          5.26732266e-01,  9.41613093e-02, -1.87796593e-01,\n",
       "          1.02174066e-01],\n",
       "        [-1.60985947e-01,  1.95946530e-01, -2.27704614e-01,\n",
       "          2.08763763e-01,  3.41610536e-02, -5.33777177e-02,\n",
       "          1.09431438e-01, -1.83291972e-01,  9.64451730e-02,\n",
       "         -2.34395936e-01],\n",
       "        [-1.85902819e-01,  1.74214706e-01, -1.51339158e-01,\n",
       "          8.82904232e-02, -8.26834291e-02, -2.17776194e-01,\n",
       "         -1.51848316e-01, -6.56363890e-02, -1.37309521e-01,\n",
       "         -1.43424392e-01],\n",
       "        [-3.22510332e-01,  1.70592234e-01, -9.60423201e-02,\n",
       "          3.94178689e-01,  4.26004119e-02, -1.64992675e-01,\n",
       "          1.30351081e-01, -3.76058102e-01, -2.78953701e-01,\n",
       "          4.92023826e-01],\n",
       "        [-1.23808697e-01, -2.13938504e-01, -1.39799342e-01,\n",
       "         -2.32749686e-01,  8.20807088e-03, -3.90262641e-02,\n",
       "          1.02072902e-01, -1.40043031e-02, -6.63676932e-02,\n",
       "          1.34410083e-01],\n",
       "        [ 1.27438098e-01, -9.81786698e-02,  1.74755648e-01,\n",
       "          1.33161426e-01,  2.04760984e-01,  9.20961425e-02,\n",
       "          1.72347069e-01, -1.34420753e-01, -4.54192199e-02,\n",
       "          3.31855088e-01],\n",
       "        [-1.08675480e-01,  1.84450090e-01, -1.66398421e-01,\n",
       "         -3.78078908e-01, -1.11871734e-02, -1.39493361e-01,\n",
       "         -3.03117394e-01,  5.28307557e-01,  3.94473791e-01,\n",
       "          3.52030724e-01],\n",
       "        [ 3.63593012e-01, -1.94623664e-01, -3.30303401e-01,\n",
       "         -4.64547098e-01, -3.48414630e-01, -3.82620730e-02,\n",
       "          4.92439389e-01,  7.01603740e-02, -1.49599150e-01,\n",
       "          1.79468617e-01],\n",
       "        [-1.13543523e-02, -4.28450853e-01, -2.81959206e-01,\n",
       "          5.34979105e-01, -6.58166856e-02, -2.95834690e-01,\n",
       "          3.98260266e-01,  2.39656165e-01, -1.63839027e-01,\n",
       "         -4.17538196e-01],\n",
       "        [ 6.85421331e-03, -3.06955338e-01,  3.37457776e-01,\n",
       "          1.41985178e-01,  8.21238160e-02, -2.77055621e-01,\n",
       "          4.63626087e-01, -1.41551793e-01, -4.44392830e-01,\n",
       "          1.36696380e-02],\n",
       "        [-3.70550036e-01,  2.15211332e-01,  3.18271965e-01,\n",
       "          5.32900877e-02, -2.17969805e-01, -4.94867116e-01,\n",
       "         -2.94992715e-01,  9.20075253e-02,  5.55372909e-02,\n",
       "          2.05182597e-01],\n",
       "        [-1.02170810e-01,  4.36886936e-01,  2.56759197e-01,\n",
       "         -2.49489054e-01,  2.79204220e-01, -5.24131596e-01,\n",
       "         -7.56105110e-02, -1.85074657e-01, -1.76781699e-01,\n",
       "         -3.40076953e-01],\n",
       "        [ 3.79687190e-01, -3.00622553e-01, -2.51690924e-01,\n",
       "          5.30533612e-01,  1.94787472e-01, -2.99550205e-01,\n",
       "         -1.24977222e-02, -4.94899563e-02, -1.66625783e-01,\n",
       "         -4.53828275e-01],\n",
       "        [ 3.20373923e-01,  3.09571952e-01, -1.28431529e-01,\n",
       "          8.69963244e-02,  3.97335589e-01, -7.99245596e-01,\n",
       "          3.77540350e-01, -2.94096321e-01,  3.77012044e-01,\n",
       "         -2.26577714e-01],\n",
       "        [-1.90830126e-01, -1.79270253e-01, -1.53959990e-01,\n",
       "          7.90237486e-02,  6.90265745e-02,  3.55598599e-01,\n",
       "          5.65896153e-01, -3.76149684e-01,  5.00742756e-02,\n",
       "          2.27799520e-01],\n",
       "        [ 3.34180951e-01,  1.64591596e-01,  1.64646447e-01,\n",
       "         -2.68973202e-01,  2.17333183e-01, -3.43079448e-01,\n",
       "          1.16539501e-01, -6.26490861e-02,  4.29546058e-01,\n",
       "          1.84296027e-01],\n",
       "        [-1.62870735e-02,  7.02117011e-02, -6.57278970e-02,\n",
       "          2.57081658e-01,  7.34307840e-02,  4.22945134e-02,\n",
       "          1.36906087e-01,  2.25471094e-01, -1.36145025e-01,\n",
       "         -9.55821574e-02],\n",
       "        [ 1.34925961e-01, -2.66692609e-01,  3.55519950e-01,\n",
       "          3.84153008e-01,  7.73515552e-02,  3.14819932e-01,\n",
       "         -5.05085528e-01, -3.13869536e-01,  1.03131436e-01,\n",
       "         -2.25877631e-02],\n",
       "        [ 1.64088756e-01,  1.04585901e-01, -2.32646659e-01,\n",
       "          1.61756501e-01,  1.88879400e-01, -2.25377753e-01,\n",
       "         -2.44562905e-02, -4.14899997e-02,  2.64149457e-02,\n",
       "          1.42791629e-01],\n",
       "        [-1.81355178e-01,  2.25769654e-01,  2.17949245e-02,\n",
       "         -3.44243906e-02, -1.37348682e-01,  8.11573938e-02,\n",
       "         -3.99958752e-02,  1.96981639e-01,  1.95427105e-01,\n",
       "          1.63633838e-01],\n",
       "        [ 3.81359965e-01, -2.04448715e-01,  3.15589756e-01,\n",
       "          1.28842087e-03, -1.78971946e-01, -8.11782926e-02,\n",
       "         -3.54493171e-01,  1.69724002e-01, -7.08222315e-02,\n",
       "         -5.61393239e-02],\n",
       "        [-4.50751156e-01, -2.83637434e-01, -1.11473940e-01,\n",
       "         -2.57676631e-01,  3.29183012e-01, -4.08647843e-02,\n",
       "          2.71848112e-01, -4.10675466e-01, -3.33566755e-01,\n",
       "          2.52276719e-01],\n",
       "        [ 2.55733728e-01, -9.97166932e-02, -1.72585875e-01,\n",
       "          2.25090116e-01, -1.13523141e-01,  6.76475465e-02,\n",
       "          3.12264740e-01, -2.69231107e-02,  3.48690450e-02,\n",
       "         -2.43825004e-01],\n",
       "        [-2.60546833e-01,  4.88434225e-01, -6.49656802e-02,\n",
       "          1.45842999e-01, -2.47919708e-01, -2.03409150e-01,\n",
       "         -1.05932906e-01,  9.41023007e-02,  3.79801542e-02,\n",
       "         -2.11292189e-02],\n",
       "        [ 1.39155313e-01,  6.47711903e-02,  1.96981996e-01,\n",
       "          1.29433081e-01,  1.57297030e-01, -2.57920831e-01,\n",
       "          1.71026781e-01,  1.21960454e-01,  5.56239188e-02,\n",
       "          7.99219757e-02],\n",
       "        [-2.37601683e-01,  1.07710180e-03,  4.00199503e-01,\n",
       "          1.73460096e-01, -3.67438823e-01,  5.67385495e-01,\n",
       "          2.61620641e-01, -4.51274276e-01,  1.49382651e-01,\n",
       "         -1.14783749e-01],\n",
       "        [-2.68609792e-01, -6.95075979e-03,  2.81056345e-01,\n",
       "         -3.88584226e-01,  6.78557232e-02, -1.01945542e-01,\n",
       "          1.40083119e-01, -4.02512789e-01, -3.58215451e-01,\n",
       "         -1.22074917e-01],\n",
       "        [-1.81745421e-02, -1.40800834e-01,  2.67229289e-01,\n",
       "          1.78396970e-01,  2.28204668e-01, -5.16342446e-02,\n",
       "          5.46525465e-03,  8.55515152e-02, -3.17064188e-02,\n",
       "         -3.27418447e-01],\n",
       "        [ 4.76447821e-01,  6.28652871e-01, -8.34352300e-02,\n",
       "          2.23761201e-01,  1.04110196e-01, -3.96987587e-01,\n",
       "          1.40612051e-01, -2.01400027e-01, -4.17537481e-01,\n",
       "         -1.96346343e-01],\n",
       "        [-8.11676681e-02,  1.78772688e-01, -4.66670655e-03,\n",
       "         -1.81562632e-01, -4.38658614e-03, -3.06059599e-01,\n",
       "          1.27276689e-01, -3.32853347e-01, -4.62857336e-01,\n",
       "         -6.11662008e-02],\n",
       "        [-4.70602363e-02, -2.19963983e-01,  6.11836851e-01,\n",
       "         -2.24835351e-01, -1.30768955e-01, -7.83461779e-02,\n",
       "         -2.86525637e-01,  3.81110191e-01, -2.69019544e-01,\n",
       "          2.36847594e-01],\n",
       "        [-8.54274109e-02, -1.87292188e-01, -2.96460800e-02,\n",
       "          3.02198697e-02,  1.36046410e-01, -1.35681480e-01,\n",
       "          3.40777189e-02, -1.61189407e-01, -1.83465049e-01,\n",
       "         -2.12327480e-01],\n",
       "        [-3.93514454e-01, -3.40773284e-01, -2.31543317e-01,\n",
       "          4.77446675e-01,  3.32066327e-01,  5.09148836e-01,\n",
       "         -1.54863775e-01, -3.72209281e-01, -2.53345460e-01,\n",
       "         -4.04015720e-01],\n",
       "        [ 5.92335820e-01, -3.34781885e-01,  5.45773864e-01,\n",
       "          8.80534202e-02, -2.47176036e-01,  1.51123285e-01,\n",
       "          2.93116301e-01, -3.01337689e-01, -4.76660192e-01,\n",
       "         -4.93607551e-01],\n",
       "        [ 3.57109517e-01, -1.71851203e-01,  3.81319791e-01,\n",
       "         -2.45560929e-01, -5.39496094e-02, -2.53103673e-01,\n",
       "          3.12507004e-01,  1.27459615e-01, -8.10631514e-02,\n",
       "         -3.03617746e-01],\n",
       "        [-3.95104736e-01,  4.08723801e-01, -1.14752278e-01,\n",
       "         -8.45211446e-02,  2.69337386e-01, -3.39112878e-01,\n",
       "         -3.96435410e-01,  4.26436335e-01,  3.85441363e-01,\n",
       "         -2.25816697e-01],\n",
       "        [-3.17798078e-01,  1.40585199e-01, -5.11610925e-01,\n",
       "          3.79931703e-02, -4.03533578e-01,  7.76223481e-01,\n",
       "         -3.57350796e-01,  1.03585735e-01,  8.21756106e-03,\n",
       "          2.23616675e-01],\n",
       "        [ 5.91946673e-03,  1.13658175e-01, -1.13145106e-01,\n",
       "         -8.17552581e-02,  2.94587940e-01, -4.32973690e-02,\n",
       "         -2.92886227e-01, -3.36239547e-01, -1.02955401e-02,\n",
       "          3.59776109e-01],\n",
       "        [ 1.53197289e-01,  1.42411202e-01,  3.77110839e-01,\n",
       "         -1.20316334e-01,  4.49777186e-01, -3.76700222e-01,\n",
       "          2.42090691e-02, -2.76789755e-01, -3.66566107e-02,\n",
       "          4.07892466e-02],\n",
       "        [-1.93783373e-01,  5.79761043e-02, -4.95636277e-03,\n",
       "          1.87874243e-01,  2.71599274e-02,  5.57635399e-03,\n",
       "          1.80843517e-01,  8.93446952e-02, -3.66206139e-01,\n",
       "          3.22513640e-01],\n",
       "        [ 3.04284006e-01,  1.45699337e-01,  1.09850004e-01,\n",
       "         -9.53176320e-02,  1.63710073e-01, -3.06233257e-01,\n",
       "         -4.33764577e-01, -2.05851868e-01,  3.37455660e-01,\n",
       "         -2.34013140e-01],\n",
       "        [ 4.17174965e-01, -2.05488726e-01,  3.33036959e-01,\n",
       "          2.25374177e-02,  4.43386227e-01,  2.57005751e-01,\n",
       "         -1.40898541e-01, -1.50364578e-01, -3.33395928e-01,\n",
       "         -6.02360740e-02],\n",
       "        [-1.94546990e-02,  5.61086535e-02,  1.76485300e-01,\n",
       "         -2.29886666e-01,  2.39381194e-01,  2.02625915e-01,\n",
       "          3.56159173e-02, -2.55557418e-01,  1.98199019e-01,\n",
       "          4.16382104e-02],\n",
       "        [-3.61377299e-01, -3.53673488e-01,  3.72568399e-01,\n",
       "         -1.53870657e-01,  2.86448330e-01, -6.63405880e-02,\n",
       "         -6.87095663e-03, -3.58074367e-01,  4.87203598e-01,\n",
       "         -1.01577885e-01],\n",
       "        [ 1.82661027e-01, -1.07566349e-01, -2.07592323e-01,\n",
       "          2.68754642e-02, -4.49344143e-02,  4.92847770e-01,\n",
       "          1.08978823e-01,  3.53264451e-01, -2.35679224e-01,\n",
       "         -4.46241349e-02],\n",
       "        [ 2.70102248e-02, -2.79858530e-01, -2.96199173e-01,\n",
       "         -2.04869837e-01, -2.39987403e-01,  3.58577728e-01,\n",
       "         -4.05796111e-01,  2.20230371e-01,  7.79140964e-02,\n",
       "          3.02290231e-01],\n",
       "        [-2.79008478e-01,  4.31434989e-01, -2.10269213e-01,\n",
       "          2.96586484e-01,  8.00209939e-02,  1.92123100e-01,\n",
       "         -9.51339006e-02,  2.11599618e-01, -3.02678168e-01,\n",
       "         -1.88155085e-01],\n",
       "        [-1.64078653e-01,  3.70590352e-02, -1.46728650e-01,\n",
       "          4.26759981e-02,  2.32290000e-01,  1.97987631e-02,\n",
       "          1.06592759e-01, -1.71002120e-01, -6.89690486e-02,\n",
       "          3.11674401e-02],\n",
       "        [-2.07882866e-01, -1.82996169e-01, -2.11526360e-02,\n",
       "         -1.20190620e-01, -2.18758777e-01,  2.02594236e-01,\n",
       "          3.13241422e-01, -2.79115569e-02,  2.56077588e-01,\n",
       "         -4.22344863e-01],\n",
       "        [ 3.74221027e-01,  2.54346311e-01, -1.33495882e-01,\n",
       "          7.04609677e-02,  2.29061410e-01,  7.28462040e-02,\n",
       "         -3.08689803e-01, -1.70467049e-01,  1.87758561e-02,\n",
       "         -2.29605362e-01],\n",
       "        [ 1.24471061e-01,  1.74135745e-01,  3.09031993e-01,\n",
       "         -8.41621757e-02, -2.16004044e-01,  2.02388152e-01,\n",
       "         -1.53578609e-01, -1.79487243e-01, -1.75218761e-01,\n",
       "         -1.31806538e-01],\n",
       "        [-1.74784318e-01, -2.68070638e-01, -6.35673478e-02,\n",
       "          5.34699023e-01,  4.59868491e-01, -1.15905263e-01,\n",
       "         -5.17407238e-01, -6.53962046e-02,  3.98140639e-01,\n",
       "         -1.11069493e-01],\n",
       "        [ 3.66490513e-01, -4.36482430e-01,  8.20778534e-02,\n",
       "          1.64599031e-01, -4.66208309e-01, -1.67424187e-01,\n",
       "          4.84658480e-01,  1.43953204e-01,  6.95545226e-02,\n",
       "          1.63728803e-01],\n",
       "        [ 1.48504987e-01, -2.11062208e-01, -2.50950336e-01,\n",
       "         -1.88088402e-01,  3.56063724e-01,  4.70610231e-01,\n",
       "          4.46632564e-01, -3.22230697e-01,  2.88750052e-01,\n",
       "         -3.38078886e-01],\n",
       "        [ 2.49041677e-01, -1.15454189e-01,  5.78163080e-02,\n",
       "          2.98786461e-01, -1.24013752e-01, -1.99482411e-01,\n",
       "         -3.73329580e-01,  1.72160760e-01, -1.76515460e-01,\n",
       "          5.01242757e-01],\n",
       "        [ 2.82422211e-02,  1.94763690e-01,  1.80727318e-01,\n",
       "         -3.27935517e-02,  1.88226759e-01,  1.13912299e-01,\n",
       "         -1.35388434e-01, -1.95127830e-01,  1.55503675e-01,\n",
       "         -6.66542277e-02],\n",
       "        [-6.00479878e-02, -4.05253619e-01, -6.49770647e-02,\n",
       "          3.70910108e-01, -3.22994679e-01,  2.44955331e-01,\n",
       "          1.79511130e-01, -1.93596348e-01,  2.57725179e-01,\n",
       "          1.71684444e-01],\n",
       "        [-1.13034979e-01, -2.48015523e-01, -2.92593867e-01,\n",
       "         -3.71580839e-01, -2.59948522e-01,  3.52409601e-01,\n",
       "         -2.79728085e-01,  1.67491794e-01,  1.77202120e-01,\n",
       "         -2.99089015e-01],\n",
       "        [-1.81178197e-01,  2.21771486e-02,  1.47504777e-01,\n",
       "          1.05437472e-01,  1.64249912e-01, -2.04323038e-01,\n",
       "         -1.32970989e-01, -2.30050206e-01,  1.93651497e-01,\n",
       "         -1.44966513e-01],\n",
       "        [ 2.09625289e-01, -2.32168257e-01,  1.96287498e-01,\n",
       "          2.47809682e-02, -1.05401665e-01,  1.45706102e-01,\n",
       "         -1.64008215e-02, -2.75564522e-01,  1.54362991e-01,\n",
       "         -2.10848182e-01],\n",
       "        [ 1.18657000e-01,  2.64160007e-01, -3.46825331e-01,\n",
       "         -2.10895166e-01, -3.61170590e-01,  4.43889618e-01,\n",
       "         -2.42594443e-02, -2.85777241e-01,  2.13115528e-01,\n",
       "         -2.94324428e-01],\n",
       "        [-1.50519907e-01, -2.10897997e-01,  3.48746449e-01,\n",
       "          3.90725523e-01,  3.30712348e-01, -1.74849376e-01,\n",
       "          4.08978254e-01,  1.13232642e-01, -6.25469923e-01,\n",
       "         -1.51769407e-02],\n",
       "        [ 3.18254799e-01,  6.86547086e-02, -2.02332795e-01,\n",
       "          3.98760557e-01,  1.17737919e-01,  3.08386773e-01,\n",
       "          1.21374421e-01, -4.26668346e-01,  3.50816280e-01,\n",
       "         -4.39593047e-01],\n",
       "        [-2.30026692e-01,  1.57206476e-01, -1.33823499e-01,\n",
       "          6.00682832e-02,  1.96410924e-01,  2.08874241e-01,\n",
       "          1.56214699e-01, -2.39878938e-01,  1.67968586e-01,\n",
       "         -1.35850489e-01]], dtype=float32),\n",
       " array([ 0.00433955, -0.07690834,  0.04631966,  0.05176197, -0.12644616,\n",
       "         0.1749425 ,  0.12296109,  0.12421948, -0.07931671, -0.24187465],\n",
       "       dtype=float32)]"
      ]
     },
     "execution_count": 33,
     "metadata": {},
     "output_type": "execute_result"
    }
   ],
   "source": [
    "model.get_weights()"
   ]
  },
  {
   "cell_type": "code",
   "execution_count": 34,
   "id": "9966cafe",
   "metadata": {},
   "outputs": [
    {
     "name": "stdout",
     "output_type": "stream",
     "text": [
      "313/313 [==============================] - 1s 3ms/step - loss: 68.7308 - accuracy: 0.8378\n"
     ]
    },
    {
     "data": {
      "text/plain": [
       "[68.73079681396484, 0.8378000259399414]"
      ]
     },
     "execution_count": 34,
     "metadata": {},
     "output_type": "execute_result"
    }
   ],
   "source": [
    "model.evaluate(X_test, y_test)"
   ]
  },
  {
   "cell_type": "code",
   "execution_count": 35,
   "id": "cf727e2f",
   "metadata": {},
   "outputs": [
    {
     "name": "stdout",
     "output_type": "stream",
     "text": [
      "1/1 [==============================] - 0s 219ms/step\n"
     ]
    },
    {
     "data": {
      "text/plain": [
       "array([[0., 0., 0., 0., 0., 0., 0., 0., 0., 1.],\n",
       "       [0., 0., 1., 0., 0., 0., 0., 0., 0., 0.],\n",
       "       [0., 1., 0., 0., 0., 0., 0., 0., 0., 0.]], dtype=float32)"
      ]
     },
     "execution_count": 35,
     "metadata": {},
     "output_type": "execute_result"
    }
   ],
   "source": [
    "X_new = X_test[:3]\n",
    "y_proba = model.predict(X_new)\n",
    "y_proba.round(2)"
   ]
  },
  {
   "cell_type": "code",
   "execution_count": 37,
   "id": "ceec2cfa",
   "metadata": {},
   "outputs": [],
   "source": [
    "y_pred = model.predict_on_batch(X_new)"
   ]
  },
  {
   "cell_type": "code",
   "execution_count": 38,
   "id": "a663aabf",
   "metadata": {},
   "outputs": [
    {
     "data": {
      "text/plain": [
       "array([[0., 0., 0., 0., 0., 0., 0., 0., 0., 1.],\n",
       "       [0., 0., 1., 0., 0., 0., 0., 0., 0., 0.],\n",
       "       [0., 1., 0., 0., 0., 0., 0., 0., 0., 0.]], dtype=float32)"
      ]
     },
     "execution_count": 38,
     "metadata": {},
     "output_type": "execute_result"
    }
   ],
   "source": [
    "y_pred"
   ]
  },
  {
   "cell_type": "code",
   "execution_count": null,
   "id": "c1f5430e",
   "metadata": {},
   "outputs": [],
   "source": []
  },
  {
   "cell_type": "code",
   "execution_count": null,
   "id": "e8d42116",
   "metadata": {},
   "outputs": [],
   "source": []
  }
 ],
 "metadata": {
  "kernelspec": {
   "display_name": "Python 3 (ipykernel)",
   "language": "python",
   "name": "python3"
  },
  "language_info": {
   "codemirror_mode": {
    "name": "ipython",
    "version": 3
   },
   "file_extension": ".py",
   "mimetype": "text/x-python",
   "name": "python",
   "nbconvert_exporter": "python",
   "pygments_lexer": "ipython3",
   "version": "3.11.5"
  }
 },
 "nbformat": 4,
 "nbformat_minor": 5
}
