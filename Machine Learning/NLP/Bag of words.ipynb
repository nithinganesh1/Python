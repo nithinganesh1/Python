{
 "cells": [
  {
   "cell_type": "code",
   "execution_count": 1,
   "id": "65c8e631",
   "metadata": {},
   "outputs": [],
   "source": [
    "import numpy as np\n",
    "import pandas as pd"
   ]
  },
  {
   "cell_type": "code",
   "execution_count": 2,
   "id": "c21bbf52",
   "metadata": {},
   "outputs": [
    {
     "name": "stderr",
     "output_type": "stream",
     "text": [
      "[nltk_data] Downloading package stopwords to\n",
      "[nltk_data]     C:\\Users\\Nithin\\AppData\\Roaming\\nltk_data...\n",
      "[nltk_data]   Package stopwords is already up-to-date!\n",
      "[nltk_data] Downloading package punkt to\n",
      "[nltk_data]     C:\\Users\\Nithin\\AppData\\Roaming\\nltk_data...\n",
      "[nltk_data]   Package punkt is already up-to-date!\n"
     ]
    }
   ],
   "source": [
    "import nltk\n",
    "nltk.download('stopwords')\n",
    "nltk.download('punkt')\n",
    "from nltk import word_tokenize\n",
    "from nltk.corpus import stopwords"
   ]
  },
  {
   "cell_type": "code",
   "execution_count": 3,
   "id": "0bec216e",
   "metadata": {},
   "outputs": [],
   "source": [
    "stop_words = set(stopwords.words('english'))"
   ]
  },
  {
   "cell_type": "code",
   "execution_count": 4,
   "id": "040f4ab7",
   "metadata": {},
   "outputs": [],
   "source": [
    "def extract_words(sentence):\n",
    "    words = nltk.word_tokenize(sentence)\n",
    "    cleaned_words = [w.lower() for w in words if w not in stop_words]\n",
    "    return cleaned_words\n",
    "\n",
    "def tokonize_sentences(sentences):\n",
    "    words = []\n",
    "    for sentence in sentences:\n",
    "        w = extract_words(sentence)\n",
    "        words.extend(w)\n",
    "    words = sorted(list(set(words)))\n",
    "    return words\n"
   ]
  },
  {
   "cell_type": "code",
   "execution_count": 5,
   "id": "86283865",
   "metadata": {},
   "outputs": [],
   "source": [
    "def bag_of_words(sentence, words):\n",
    "    sentence_words = extract_words(sentence)\n",
    "    # frequency word count\n",
    "    bag = np.zeros(len(words))\n",
    "    \n",
    "    for sw in sentence_words:\n",
    "        for i, w in enumerate(words):\n",
    "            if sw == w:\n",
    "                bag[i] += 1\n",
    "    \n",
    "    return np.array(bag)"
   ]
  },
  {
   "cell_type": "code",
   "execution_count": 6,
   "id": "d6ebc12f",
   "metadata": {},
   "outputs": [],
   "source": [
    "sentences = np.array([\n",
    "    \"The 2023 Indian Premier League final was played on 29 May 2023[a] at the Narendra Modi Stadium in Ahmedabad. Originally it was scheduled to be played on 28 May 2023 but start of play was postponed a day due to rain (29 May).[1]\",\n",
    "    \"It was a Day/Night T20 match to decide the winner of the 2023 season of the Indian Premier League (IPL), an annual Twenty20 tournament in India organised by BCCI.[2] In the final Chennai Super Kings defeated Gujarat Titans by 5 wickets (By DLS method). The game was halted at the beginning of 2nd inning of CSK for more than an hour, due to loss of play final's referee Javagal Srinath gave CSK revised target of 171 which they had to chase in 15 overs. At the end Super Kings won fifth IPL title. Devon Conway got awarded with player of the match.[3][4]\",\n",
    "    \"Titans set the record for the highest team total in an IPL final. It was the first ever rain delayed IPL final to be played on the reserve day and ran two days (29–30 May) as well as the first one to be played between the franchises who played the season's opening fixture. It was also the first time in IPL history that the winner was announced by Duckworth–Lewis–Stern method.[5]\"\n",
    "])"
   ]
  },
  {
   "cell_type": "code",
   "execution_count": 7,
   "id": "6c00c3c6",
   "metadata": {},
   "outputs": [
    {
     "name": "stdout",
     "output_type": "stream",
     "text": [
      "[\"'s\", '(', ')', ',', '.', '1', '15', '171', '2', '2023', '28', '29', '29–30', '2nd', '3', '4', '5', '[', ']', 'ahmedabad', 'also', 'announced', 'annual', 'at', 'awarded', 'bcci', 'beginning', 'by', 'chase', 'chennai', 'conway', 'csk', 'day', 'day/night', 'days', 'decide', 'defeated', 'delayed', 'devon', 'dls', 'duckworth–lewis–stern', 'due', 'end', 'ever', 'fifth', 'final', 'first', 'fixture', 'franchises', 'game', 'gave', 'got', 'gujarat', 'halted', 'highest', 'history', 'hour', 'in', 'india', 'indian', 'inning', 'ipl', 'it', 'javagal', 'kings', 'league', 'loss', 'match', 'may', 'method', 'modi', 'narendra', 'one', 'opening', 'organised', 'originally', 'overs', 'play', 'played', 'player', 'postponed', 'premier', 'rain', 'ran', 'record', 'referee', 'reserve', 'revised', 'scheduled', 'season', 'set', 'srinath', 'stadium', 'start', 'super', 't20', 'target', 'team', 'the', 'time', 'titans', 'title', 'total', 'tournament', 'twenty20', 'two', 'well', 'wickets', 'winner']\n"
     ]
    }
   ],
   "source": [
    "v = tokonize_sentences(sentences)\n",
    "print(v)"
   ]
  },
  {
   "cell_type": "code",
   "execution_count": 8,
   "id": "5d13e616",
   "metadata": {},
   "outputs": [
    {
     "data": {
      "text/plain": [
       "array([0., 0., 0., 1., 0., 0., 0., 0., 0., 2., 0., 1., 0., 0., 0., 0., 0.,\n",
       "       1., 1., 0., 0., 0., 0., 0., 0., 0., 0., 0., 0., 0., 0., 0., 0., 0.,\n",
       "       0., 0., 0., 0., 0., 0., 0., 0., 0., 0., 0., 1., 0., 0., 0., 0., 0.,\n",
       "       0., 0., 0., 0., 0., 0., 0., 0., 1., 0., 0., 0., 0., 0., 1., 0., 0.,\n",
       "       1., 0., 1., 1., 0., 0., 0., 0., 0., 0., 1., 0., 0., 1., 0., 0., 0.,\n",
       "       0., 0., 0., 0., 0., 0., 0., 1., 0., 0., 0., 0., 0., 1., 0., 0., 0.,\n",
       "       0., 0., 0., 0., 0., 0., 0.])"
      ]
     },
     "execution_count": 8,
     "metadata": {},
     "output_type": "execute_result"
    }
   ],
   "source": [
    "bag_of_words(\"The 2023 Indian Premier League final was played on 29 May 2023[a] at the Narendra Modi Stadium,\",v)"
   ]
  },
  {
   "cell_type": "markdown",
   "id": "4281d15f",
   "metadata": {},
   "source": [
    "# CountVectorizer"
   ]
  },
  {
   "cell_type": "code",
   "execution_count": 35,
   "id": "dcb457d9",
   "metadata": {},
   "outputs": [],
   "source": [
    "import numpy as np\n",
    "import pandas as pd\n",
    "from sklearn.feature_extraction.text import CountVectorizer"
   ]
  },
  {
   "cell_type": "code",
   "execution_count": 36,
   "id": "ed48f25c",
   "metadata": {},
   "outputs": [],
   "source": [
    "sentences = np.array([\n",
    "    \"The 2023 Indian Premier League final was played on 29 May 2023[a] at the Narendra Modi Stadium in Ahmedabad. Originally it was scheduled to be played on 28 May 2023 but start of play was postponed a day due to rain (29 May).[1]\",\n",
    "    \"It was a Day/Night T20 match to decide the winner of the 2023 season of the Indian Premier League (IPL), an annual Twenty20 tournament in India organised by BCCI.[2] In the final Chennai Super Kings defeated Gujarat Titans by 5 wickets (By DLS method). The game was halted at the beginning of 2nd inning of CSK for more than an hour, due to loss of play final's referee Javagal Srinath gave CSK revised target of 171 which they had to chase in 15 overs. At the end Super Kings won fifth IPL title. Devon Conway got awarded with player of the match.[3][4]\",\n",
    "    \"Titans set the record for the highest team total in an IPL final. It was the first ever rain delayed IPL final to be played on the reserve day and ran two days (29–30 May) as well as the first one to be played between the franchises who played the season's opening fixture. It was also the first time in IPL history that the winner was announced by Duckworth–Lewis–Stern method.[5]\"\n",
    "])"
   ]
  },
  {
   "cell_type": "code",
   "execution_count": 37,
   "id": "858cfa95",
   "metadata": {},
   "outputs": [],
   "source": [
    "obj = CountVectorizer(stop_words= stop_words)\n",
    "bow = obj.fit_transform(sentences)"
   ]
  },
  {
   "cell_type": "code",
   "execution_count": 38,
   "id": "32e9060b",
   "metadata": {},
   "outputs": [
    {
     "data": {
      "text/plain": [
       "array([[0, 0, 3, 1, 2, 0, 0, 1, 0, 0, 0, 0, 0, 0, 0, 0, 0, 0, 1, 0, 0, 0,\n",
       "        0, 0, 0, 0, 1, 0, 0, 0, 1, 0, 0, 0, 0, 0, 0, 0, 0, 0, 0, 0, 0, 1,\n",
       "        0, 0, 0, 0, 1, 0, 0, 0, 3, 0, 1, 1, 0, 0, 0, 0, 1, 0, 1, 2, 0, 1,\n",
       "        1, 1, 0, 0, 0, 0, 0, 1, 0, 0, 0, 1, 1, 0, 0, 0, 0, 0, 0, 0, 0, 0,\n",
       "        0, 0, 0, 0, 0, 0],\n",
       "       [1, 1, 1, 0, 0, 1, 0, 0, 0, 0, 1, 1, 1, 1, 1, 1, 1, 2, 1, 0, 1, 1,\n",
       "        0, 1, 1, 0, 1, 1, 0, 1, 2, 0, 0, 0, 1, 1, 1, 1, 1, 0, 0, 1, 1, 1,\n",
       "        1, 2, 1, 2, 1, 0, 1, 2, 0, 1, 0, 0, 1, 0, 0, 1, 0, 1, 1, 0, 1, 0,\n",
       "        1, 0, 0, 0, 1, 0, 1, 0, 1, 0, 1, 0, 0, 0, 2, 1, 1, 0, 0, 1, 1, 0,\n",
       "        1, 1, 0, 0, 1, 1],\n",
       "       [0, 0, 0, 0, 1, 0, 1, 0, 1, 1, 0, 0, 0, 0, 0, 0, 0, 0, 1, 1, 0, 0,\n",
       "        1, 0, 0, 1, 0, 0, 1, 0, 2, 3, 1, 1, 0, 0, 0, 0, 0, 1, 1, 0, 0, 0,\n",
       "        0, 3, 0, 0, 0, 1, 0, 0, 1, 1, 0, 0, 0, 1, 1, 0, 0, 0, 0, 3, 0, 0,\n",
       "        0, 1, 1, 1, 0, 1, 0, 0, 1, 1, 0, 0, 0, 1, 0, 0, 0, 1, 1, 1, 0, 1,\n",
       "        0, 0, 1, 1, 0, 1]], dtype=int64)"
      ]
     },
     "execution_count": 38,
     "metadata": {},
     "output_type": "execute_result"
    }
   ],
   "source": [
    "bow.toarray()"
   ]
  },
  {
   "cell_type": "code",
   "execution_count": 39,
   "id": "3be0c400",
   "metadata": {},
   "outputs": [],
   "source": [
    "feature_name = obj.get_feature_names_out()"
   ]
  },
  {
   "cell_type": "code",
   "execution_count": 40,
   "id": "db7712db",
   "metadata": {},
   "outputs": [
    {
     "name": "stdout",
     "output_type": "stream",
     "text": [
      "['15' '171' '2023' '28' '29' '2nd' '30' 'ahmedabad' 'also' 'announced'\n",
      " 'annual' 'awarded' 'bcci' 'beginning' 'chase' 'chennai' 'conway' 'csk'\n",
      " 'day' 'days' 'decide' 'defeated' 'delayed' 'devon' 'dls' 'duckworth'\n",
      " 'due' 'end' 'ever' 'fifth' 'final' 'first' 'fixture' 'franchises' 'game'\n",
      " 'gave' 'got' 'gujarat' 'halted' 'highest' 'history' 'hour' 'india'\n",
      " 'indian' 'inning' 'ipl' 'javagal' 'kings' 'league' 'lewis' 'loss' 'match'\n",
      " 'may' 'method' 'modi' 'narendra' 'night' 'one' 'opening' 'organised'\n",
      " 'originally' 'overs' 'play' 'played' 'player' 'postponed' 'premier'\n",
      " 'rain' 'ran' 'record' 'referee' 'reserve' 'revised' 'scheduled' 'season'\n",
      " 'set' 'srinath' 'stadium' 'start' 'stern' 'super' 't20' 'target' 'team'\n",
      " 'time' 'titans' 'title' 'total' 'tournament' 'twenty20' 'two' 'well'\n",
      " 'wickets' 'winner']\n"
     ]
    }
   ],
   "source": [
    "print(feature_name)"
   ]
  },
  {
   "cell_type": "code",
   "execution_count": 41,
   "id": "be1da6e1",
   "metadata": {},
   "outputs": [
    {
     "data": {
      "text/html": [
       "<div>\n",
       "<style scoped>\n",
       "    .dataframe tbody tr th:only-of-type {\n",
       "        vertical-align: middle;\n",
       "    }\n",
       "\n",
       "    .dataframe tbody tr th {\n",
       "        vertical-align: top;\n",
       "    }\n",
       "\n",
       "    .dataframe thead th {\n",
       "        text-align: right;\n",
       "    }\n",
       "</style>\n",
       "<table border=\"1\" class=\"dataframe\">\n",
       "  <thead>\n",
       "    <tr style=\"text-align: right;\">\n",
       "      <th></th>\n",
       "      <th>15</th>\n",
       "      <th>171</th>\n",
       "      <th>2023</th>\n",
       "      <th>28</th>\n",
       "      <th>29</th>\n",
       "      <th>2nd</th>\n",
       "      <th>30</th>\n",
       "      <th>ahmedabad</th>\n",
       "      <th>also</th>\n",
       "      <th>announced</th>\n",
       "      <th>...</th>\n",
       "      <th>time</th>\n",
       "      <th>titans</th>\n",
       "      <th>title</th>\n",
       "      <th>total</th>\n",
       "      <th>tournament</th>\n",
       "      <th>twenty20</th>\n",
       "      <th>two</th>\n",
       "      <th>well</th>\n",
       "      <th>wickets</th>\n",
       "      <th>winner</th>\n",
       "    </tr>\n",
       "  </thead>\n",
       "  <tbody>\n",
       "    <tr>\n",
       "      <th>0</th>\n",
       "      <td>0</td>\n",
       "      <td>0</td>\n",
       "      <td>3</td>\n",
       "      <td>1</td>\n",
       "      <td>2</td>\n",
       "      <td>0</td>\n",
       "      <td>0</td>\n",
       "      <td>1</td>\n",
       "      <td>0</td>\n",
       "      <td>0</td>\n",
       "      <td>...</td>\n",
       "      <td>0</td>\n",
       "      <td>0</td>\n",
       "      <td>0</td>\n",
       "      <td>0</td>\n",
       "      <td>0</td>\n",
       "      <td>0</td>\n",
       "      <td>0</td>\n",
       "      <td>0</td>\n",
       "      <td>0</td>\n",
       "      <td>0</td>\n",
       "    </tr>\n",
       "    <tr>\n",
       "      <th>1</th>\n",
       "      <td>1</td>\n",
       "      <td>1</td>\n",
       "      <td>1</td>\n",
       "      <td>0</td>\n",
       "      <td>0</td>\n",
       "      <td>1</td>\n",
       "      <td>0</td>\n",
       "      <td>0</td>\n",
       "      <td>0</td>\n",
       "      <td>0</td>\n",
       "      <td>...</td>\n",
       "      <td>0</td>\n",
       "      <td>1</td>\n",
       "      <td>1</td>\n",
       "      <td>0</td>\n",
       "      <td>1</td>\n",
       "      <td>1</td>\n",
       "      <td>0</td>\n",
       "      <td>0</td>\n",
       "      <td>1</td>\n",
       "      <td>1</td>\n",
       "    </tr>\n",
       "    <tr>\n",
       "      <th>2</th>\n",
       "      <td>0</td>\n",
       "      <td>0</td>\n",
       "      <td>0</td>\n",
       "      <td>0</td>\n",
       "      <td>1</td>\n",
       "      <td>0</td>\n",
       "      <td>1</td>\n",
       "      <td>0</td>\n",
       "      <td>1</td>\n",
       "      <td>1</td>\n",
       "      <td>...</td>\n",
       "      <td>1</td>\n",
       "      <td>1</td>\n",
       "      <td>0</td>\n",
       "      <td>1</td>\n",
       "      <td>0</td>\n",
       "      <td>0</td>\n",
       "      <td>1</td>\n",
       "      <td>1</td>\n",
       "      <td>0</td>\n",
       "      <td>1</td>\n",
       "    </tr>\n",
       "  </tbody>\n",
       "</table>\n",
       "<p>3 rows × 94 columns</p>\n",
       "</div>"
      ],
      "text/plain": [
       "   15  171  2023  28  29  2nd  30  ahmedabad  also  announced  ...  time  \\\n",
       "0   0    0     3   1   2    0   0          1     0          0  ...     0   \n",
       "1   1    1     1   0   0    1   0          0     0          0  ...     0   \n",
       "2   0    0     0   0   1    0   1          0     1          1  ...     1   \n",
       "\n",
       "   titans  title  total  tournament  twenty20  two  well  wickets  winner  \n",
       "0       0      0      0           0         0    0     0        0       0  \n",
       "1       1      1      0           1         1    0     0        1       1  \n",
       "2       1      0      1           0         0    1     1        0       1  \n",
       "\n",
       "[3 rows x 94 columns]"
      ]
     },
     "execution_count": 41,
     "metadata": {},
     "output_type": "execute_result"
    }
   ],
   "source": [
    "pd.DataFrame(bow.toarray(),columns=feature_name)"
   ]
  },
  {
   "cell_type": "code",
   "execution_count": 42,
   "id": "5a0bbe3b",
   "metadata": {},
   "outputs": [],
   "source": [
    "sentences = np.array([\n",
    "    \"The sun is shining.\",\n",
    "    \"I love eating pizza.\",\n",
    "    \"She sings beautifully.\"\n",
    "])"
   ]
  },
  {
   "cell_type": "code",
   "execution_count": 43,
   "id": "dd1ff3d4",
   "metadata": {},
   "outputs": [],
   "source": [
    "bow1 = obj.fit_transform(sentences)"
   ]
  },
  {
   "cell_type": "code",
   "execution_count": 44,
   "id": "70de9703",
   "metadata": {},
   "outputs": [],
   "source": [
    "f_names = obj.get_feature_names_out()"
   ]
  },
  {
   "cell_type": "code",
   "execution_count": 45,
   "id": "4a88c95a",
   "metadata": {},
   "outputs": [
    {
     "data": {
      "text/plain": [
       "array(['beautifully', 'eating', 'love', 'pizza', 'shining', 'sings',\n",
       "       'sun'], dtype=object)"
      ]
     },
     "execution_count": 45,
     "metadata": {},
     "output_type": "execute_result"
    }
   ],
   "source": [
    "f_names"
   ]
  },
  {
   "cell_type": "code",
   "execution_count": 46,
   "id": "8a1b5cb4",
   "metadata": {},
   "outputs": [
    {
     "data": {
      "text/html": [
       "<div>\n",
       "<style scoped>\n",
       "    .dataframe tbody tr th:only-of-type {\n",
       "        vertical-align: middle;\n",
       "    }\n",
       "\n",
       "    .dataframe tbody tr th {\n",
       "        vertical-align: top;\n",
       "    }\n",
       "\n",
       "    .dataframe thead th {\n",
       "        text-align: right;\n",
       "    }\n",
       "</style>\n",
       "<table border=\"1\" class=\"dataframe\">\n",
       "  <thead>\n",
       "    <tr style=\"text-align: right;\">\n",
       "      <th></th>\n",
       "      <th>beautifully</th>\n",
       "      <th>eating</th>\n",
       "      <th>love</th>\n",
       "      <th>pizza</th>\n",
       "      <th>shining</th>\n",
       "      <th>sings</th>\n",
       "      <th>sun</th>\n",
       "    </tr>\n",
       "  </thead>\n",
       "  <tbody>\n",
       "    <tr>\n",
       "      <th>0</th>\n",
       "      <td>0</td>\n",
       "      <td>0</td>\n",
       "      <td>0</td>\n",
       "      <td>0</td>\n",
       "      <td>1</td>\n",
       "      <td>0</td>\n",
       "      <td>1</td>\n",
       "    </tr>\n",
       "    <tr>\n",
       "      <th>1</th>\n",
       "      <td>0</td>\n",
       "      <td>1</td>\n",
       "      <td>1</td>\n",
       "      <td>1</td>\n",
       "      <td>0</td>\n",
       "      <td>0</td>\n",
       "      <td>0</td>\n",
       "    </tr>\n",
       "    <tr>\n",
       "      <th>2</th>\n",
       "      <td>1</td>\n",
       "      <td>0</td>\n",
       "      <td>0</td>\n",
       "      <td>0</td>\n",
       "      <td>0</td>\n",
       "      <td>1</td>\n",
       "      <td>0</td>\n",
       "    </tr>\n",
       "  </tbody>\n",
       "</table>\n",
       "</div>"
      ],
      "text/plain": [
       "   beautifully  eating  love  pizza  shining  sings  sun\n",
       "0            0       0     0      0        1      0    1\n",
       "1            0       1     1      1        0      0    0\n",
       "2            1       0     0      0        0      1    0"
      ]
     },
     "execution_count": 46,
     "metadata": {},
     "output_type": "execute_result"
    }
   ],
   "source": [
    "pd.DataFrame(bow1.toarray(),columns=f_names)"
   ]
  }
 ],
 "metadata": {
  "kernelspec": {
   "display_name": "Python 3 (ipykernel)",
   "language": "python",
   "name": "python3"
  },
  "language_info": {
   "codemirror_mode": {
    "name": "ipython",
    "version": 3
   },
   "file_extension": ".py",
   "mimetype": "text/x-python",
   "name": "python",
   "nbconvert_exporter": "python",
   "pygments_lexer": "ipython3",
   "version": "3.9.13"
  }
 },
 "nbformat": 4,
 "nbformat_minor": 5
}
